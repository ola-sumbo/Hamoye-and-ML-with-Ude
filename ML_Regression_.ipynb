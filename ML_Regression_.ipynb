{
  "nbformat": 4,
  "nbformat_minor": 0,
  "metadata": {
    "colab": {
      "name": "ML Regression .ipynb",
      "provenance": [],
      "collapsed_sections": [],
      "authorship_tag": "ABX9TyN7XOg16k48VAYenlvRjJCL",
      "include_colab_link": true
    },
    "kernelspec": {
      "name": "python3",
      "display_name": "Python 3"
    }
  },
  "cells": [
    {
      "cell_type": "markdown",
      "metadata": {
        "id": "view-in-github",
        "colab_type": "text"
      },
      "source": [
        "<a href=\"https://colab.research.google.com/github/ola-sumbo/Hamoye-and-ML-with-Ude/blob/master/ML_Regression_.ipynb\" target=\"_parent\"><img src=\"https://colab.research.google.com/assets/colab-badge.svg\" alt=\"Open In Colab\"/></a>"
      ]
    },
    {
      "cell_type": "code",
      "metadata": {
        "id": "ZnWlInbuuUI2",
        "colab_type": "code",
        "colab": {
          "base_uri": "https://localhost:8080/",
          "height": 88
        },
        "outputId": "5023b4b0-2a73-4ff3-a825-03bf02db8230"
      },
      "source": [
        "# Import and load package for the entire exercise\n",
        "import numpy as np   #for linear algebra\n",
        "import pandas as pd  # for data processing\n",
        "import matplotlib.pyplot as plt # for visualisation\n",
        "import matplotlib.gridspec as gridspec  # plotting \n",
        "import seaborn as sns  # plotting\n",
        "sns.despine()   # to plot specific graph design\n",
        "plt.rc('figure', figsize=(20, 10))"
      ],
      "execution_count": 1,
      "outputs": [
        {
          "output_type": "stream",
          "text": [
            "/usr/local/lib/python3.6/dist-packages/statsmodels/tools/_testing.py:19: FutureWarning: pandas.util.testing is deprecated. Use the functions in the public API at pandas.testing instead.\n",
            "  import pandas.util.testing as tm\n"
          ],
          "name": "stderr"
        },
        {
          "output_type": "display_data",
          "data": {
            "text/plain": [
              "<Figure size 432x288 with 0 Axes>"
            ]
          },
          "metadata": {
            "tags": []
          }
        }
      ]
    },
    {
      "cell_type": "code",
      "metadata": {
        "id": "Oz5NAj_eBuum",
        "colab_type": "code",
        "colab": {
          "base_uri": "https://localhost:8080/",
          "height": 204
        },
        "outputId": "4ae2e125-e575-40ed-89b1-66d1a29f919c"
      },
      "source": [
        "df=pd.read_excel(r'https://archive.ics.uci.edu/ml/machine-learning-databases/00242/ENB2012_data.xlsx', header=0)\n",
        "df.head()"
      ],
      "execution_count": 2,
      "outputs": [
        {
          "output_type": "execute_result",
          "data": {
            "text/html": [
              "<div>\n",
              "<style scoped>\n",
              "    .dataframe tbody tr th:only-of-type {\n",
              "        vertical-align: middle;\n",
              "    }\n",
              "\n",
              "    .dataframe tbody tr th {\n",
              "        vertical-align: top;\n",
              "    }\n",
              "\n",
              "    .dataframe thead th {\n",
              "        text-align: right;\n",
              "    }\n",
              "</style>\n",
              "<table border=\"1\" class=\"dataframe\">\n",
              "  <thead>\n",
              "    <tr style=\"text-align: right;\">\n",
              "      <th></th>\n",
              "      <th>X1</th>\n",
              "      <th>X2</th>\n",
              "      <th>X3</th>\n",
              "      <th>X4</th>\n",
              "      <th>X5</th>\n",
              "      <th>X6</th>\n",
              "      <th>X7</th>\n",
              "      <th>X8</th>\n",
              "      <th>Y1</th>\n",
              "      <th>Y2</th>\n",
              "    </tr>\n",
              "  </thead>\n",
              "  <tbody>\n",
              "    <tr>\n",
              "      <th>0</th>\n",
              "      <td>0.98</td>\n",
              "      <td>514.5</td>\n",
              "      <td>294.0</td>\n",
              "      <td>110.25</td>\n",
              "      <td>7.0</td>\n",
              "      <td>2</td>\n",
              "      <td>0.0</td>\n",
              "      <td>0</td>\n",
              "      <td>15.55</td>\n",
              "      <td>21.33</td>\n",
              "    </tr>\n",
              "    <tr>\n",
              "      <th>1</th>\n",
              "      <td>0.98</td>\n",
              "      <td>514.5</td>\n",
              "      <td>294.0</td>\n",
              "      <td>110.25</td>\n",
              "      <td>7.0</td>\n",
              "      <td>3</td>\n",
              "      <td>0.0</td>\n",
              "      <td>0</td>\n",
              "      <td>15.55</td>\n",
              "      <td>21.33</td>\n",
              "    </tr>\n",
              "    <tr>\n",
              "      <th>2</th>\n",
              "      <td>0.98</td>\n",
              "      <td>514.5</td>\n",
              "      <td>294.0</td>\n",
              "      <td>110.25</td>\n",
              "      <td>7.0</td>\n",
              "      <td>4</td>\n",
              "      <td>0.0</td>\n",
              "      <td>0</td>\n",
              "      <td>15.55</td>\n",
              "      <td>21.33</td>\n",
              "    </tr>\n",
              "    <tr>\n",
              "      <th>3</th>\n",
              "      <td>0.98</td>\n",
              "      <td>514.5</td>\n",
              "      <td>294.0</td>\n",
              "      <td>110.25</td>\n",
              "      <td>7.0</td>\n",
              "      <td>5</td>\n",
              "      <td>0.0</td>\n",
              "      <td>0</td>\n",
              "      <td>15.55</td>\n",
              "      <td>21.33</td>\n",
              "    </tr>\n",
              "    <tr>\n",
              "      <th>4</th>\n",
              "      <td>0.90</td>\n",
              "      <td>563.5</td>\n",
              "      <td>318.5</td>\n",
              "      <td>122.50</td>\n",
              "      <td>7.0</td>\n",
              "      <td>2</td>\n",
              "      <td>0.0</td>\n",
              "      <td>0</td>\n",
              "      <td>20.84</td>\n",
              "      <td>28.28</td>\n",
              "    </tr>\n",
              "  </tbody>\n",
              "</table>\n",
              "</div>"
            ],
            "text/plain": [
              "     X1     X2     X3      X4   X5  X6   X7  X8     Y1     Y2\n",
              "0  0.98  514.5  294.0  110.25  7.0   2  0.0   0  15.55  21.33\n",
              "1  0.98  514.5  294.0  110.25  7.0   3  0.0   0  15.55  21.33\n",
              "2  0.98  514.5  294.0  110.25  7.0   4  0.0   0  15.55  21.33\n",
              "3  0.98  514.5  294.0  110.25  7.0   5  0.0   0  15.55  21.33\n",
              "4  0.90  563.5  318.5  122.50  7.0   2  0.0   0  20.84  28.28"
            ]
          },
          "metadata": {
            "tags": []
          },
          "execution_count": 2
        }
      ]
    },
    {
      "cell_type": "code",
      "metadata": {
        "id": "z2yr6gNdH6pD",
        "colab_type": "code",
        "colab": {
          "base_uri": "https://localhost:8080/",
          "height": 204
        },
        "outputId": "139815a9-bdb2-4eb0-e66d-978689f484ac"
      },
      "source": [
        "#rename columns to match description given us\n",
        "column_names = {'X1':'Relative_Compactness', 'X2': 'Surface_Area',\n",
        "'X3': 'Wall_Area', 'X4': 'Roof_Area', 'X5': 'Overall_Height',\n",
        "'X6': 'Orientation', 'X7': 'Glazing_Area',\n",
        "'X8': 'Glazing_Area_Distribution',\n",
        "'Y1': 'Heating_Load', 'Y2': 'Cooling_Load'}\n",
        "df1 = df.rename(columns=column_names)\n",
        "df1.head()"
      ],
      "execution_count": 3,
      "outputs": [
        {
          "output_type": "execute_result",
          "data": {
            "text/html": [
              "<div>\n",
              "<style scoped>\n",
              "    .dataframe tbody tr th:only-of-type {\n",
              "        vertical-align: middle;\n",
              "    }\n",
              "\n",
              "    .dataframe tbody tr th {\n",
              "        vertical-align: top;\n",
              "    }\n",
              "\n",
              "    .dataframe thead th {\n",
              "        text-align: right;\n",
              "    }\n",
              "</style>\n",
              "<table border=\"1\" class=\"dataframe\">\n",
              "  <thead>\n",
              "    <tr style=\"text-align: right;\">\n",
              "      <th></th>\n",
              "      <th>Relative_Compactness</th>\n",
              "      <th>Surface_Area</th>\n",
              "      <th>Wall_Area</th>\n",
              "      <th>Roof_Area</th>\n",
              "      <th>Overall_Height</th>\n",
              "      <th>Orientation</th>\n",
              "      <th>Glazing_Area</th>\n",
              "      <th>Glazing_Area_Distribution</th>\n",
              "      <th>Heating_Load</th>\n",
              "      <th>Cooling_Load</th>\n",
              "    </tr>\n",
              "  </thead>\n",
              "  <tbody>\n",
              "    <tr>\n",
              "      <th>0</th>\n",
              "      <td>0.98</td>\n",
              "      <td>514.5</td>\n",
              "      <td>294.0</td>\n",
              "      <td>110.25</td>\n",
              "      <td>7.0</td>\n",
              "      <td>2</td>\n",
              "      <td>0.0</td>\n",
              "      <td>0</td>\n",
              "      <td>15.55</td>\n",
              "      <td>21.33</td>\n",
              "    </tr>\n",
              "    <tr>\n",
              "      <th>1</th>\n",
              "      <td>0.98</td>\n",
              "      <td>514.5</td>\n",
              "      <td>294.0</td>\n",
              "      <td>110.25</td>\n",
              "      <td>7.0</td>\n",
              "      <td>3</td>\n",
              "      <td>0.0</td>\n",
              "      <td>0</td>\n",
              "      <td>15.55</td>\n",
              "      <td>21.33</td>\n",
              "    </tr>\n",
              "    <tr>\n",
              "      <th>2</th>\n",
              "      <td>0.98</td>\n",
              "      <td>514.5</td>\n",
              "      <td>294.0</td>\n",
              "      <td>110.25</td>\n",
              "      <td>7.0</td>\n",
              "      <td>4</td>\n",
              "      <td>0.0</td>\n",
              "      <td>0</td>\n",
              "      <td>15.55</td>\n",
              "      <td>21.33</td>\n",
              "    </tr>\n",
              "    <tr>\n",
              "      <th>3</th>\n",
              "      <td>0.98</td>\n",
              "      <td>514.5</td>\n",
              "      <td>294.0</td>\n",
              "      <td>110.25</td>\n",
              "      <td>7.0</td>\n",
              "      <td>5</td>\n",
              "      <td>0.0</td>\n",
              "      <td>0</td>\n",
              "      <td>15.55</td>\n",
              "      <td>21.33</td>\n",
              "    </tr>\n",
              "    <tr>\n",
              "      <th>4</th>\n",
              "      <td>0.90</td>\n",
              "      <td>563.5</td>\n",
              "      <td>318.5</td>\n",
              "      <td>122.50</td>\n",
              "      <td>7.0</td>\n",
              "      <td>2</td>\n",
              "      <td>0.0</td>\n",
              "      <td>0</td>\n",
              "      <td>20.84</td>\n",
              "      <td>28.28</td>\n",
              "    </tr>\n",
              "  </tbody>\n",
              "</table>\n",
              "</div>"
            ],
            "text/plain": [
              "   Relative_Compactness  Surface_Area  ...  Heating_Load  Cooling_Load\n",
              "0                  0.98         514.5  ...         15.55         21.33\n",
              "1                  0.98         514.5  ...         15.55         21.33\n",
              "2                  0.98         514.5  ...         15.55         21.33\n",
              "3                  0.98         514.5  ...         15.55         21.33\n",
              "4                  0.90         563.5  ...         20.84         28.28\n",
              "\n",
              "[5 rows x 10 columns]"
            ]
          },
          "metadata": {
            "tags": []
          },
          "execution_count": 3
        }
      ]
    },
    {
      "cell_type": "code",
      "metadata": {
        "id": "X889dwVkH5aD",
        "colab_type": "code",
        "colab": {
          "base_uri": "https://localhost:8080/",
          "height": 204
        },
        "outputId": "08d74c1b-6262-4023-f0e1-0a47fb93e193"
      },
      "source": [
        "# select a sample of the dataset to view the relationship from the sub-sample\n",
        "simple_linear_reg_df = df1[['Relative_Compactness','Heating_Load']].sample(15, random_state=2)\n",
        "simple_linear_reg_df.head()"
      ],
      "execution_count": 4,
      "outputs": [
        {
          "output_type": "execute_result",
          "data": {
            "text/html": [
              "<div>\n",
              "<style scoped>\n",
              "    .dataframe tbody tr th:only-of-type {\n",
              "        vertical-align: middle;\n",
              "    }\n",
              "\n",
              "    .dataframe tbody tr th {\n",
              "        vertical-align: top;\n",
              "    }\n",
              "\n",
              "    .dataframe thead th {\n",
              "        text-align: right;\n",
              "    }\n",
              "</style>\n",
              "<table border=\"1\" class=\"dataframe\">\n",
              "  <thead>\n",
              "    <tr style=\"text-align: right;\">\n",
              "      <th></th>\n",
              "      <th>Relative_Compactness</th>\n",
              "      <th>Heating_Load</th>\n",
              "    </tr>\n",
              "  </thead>\n",
              "  <tbody>\n",
              "    <tr>\n",
              "      <th>158</th>\n",
              "      <td>0.82</td>\n",
              "      <td>24.17</td>\n",
              "    </tr>\n",
              "    <tr>\n",
              "      <th>251</th>\n",
              "      <td>0.86</td>\n",
              "      <td>26.45</td>\n",
              "    </tr>\n",
              "    <tr>\n",
              "      <th>631</th>\n",
              "      <td>0.90</td>\n",
              "      <td>34.29</td>\n",
              "    </tr>\n",
              "    <tr>\n",
              "      <th>757</th>\n",
              "      <td>0.66</td>\n",
              "      <td>14.92</td>\n",
              "    </tr>\n",
              "    <tr>\n",
              "      <th>689</th>\n",
              "      <td>0.79</td>\n",
              "      <td>41.73</td>\n",
              "    </tr>\n",
              "  </tbody>\n",
              "</table>\n",
              "</div>"
            ],
            "text/plain": [
              "     Relative_Compactness  Heating_Load\n",
              "158                  0.82         24.17\n",
              "251                  0.86         26.45\n",
              "631                  0.90         34.29\n",
              "757                  0.66         14.92\n",
              "689                  0.79         41.73"
            ]
          },
          "metadata": {
            "tags": []
          },
          "execution_count": 4
        }
      ]
    },
    {
      "cell_type": "code",
      "metadata": {
        "id": "LTyYv0knU-Y8",
        "colab_type": "code",
        "colab": {
          "base_uri": "https://localhost:8080/",
          "height": 187
        },
        "outputId": "706d5d79-0c52-4e6e-8b02-6e4b7e46b565"
      },
      "source": [
        "# to look the relative correlation between relative compactness and the target variable heating load\n",
        "spr = (df1.corr()[\"Heating_Load\"].sort_values(ascending=False)[1:10])\n",
        "print(spr)"
      ],
      "execution_count": 5,
      "outputs": [
        {
          "output_type": "stream",
          "text": [
            "Cooling_Load                 0.975862\n",
            "Overall_Height               0.889430\n",
            "Relative_Compactness         0.622272\n",
            "Wall_Area                    0.455671\n",
            "Glazing_Area                 0.269842\n",
            "Glazing_Area_Distribution    0.087368\n",
            "Orientation                 -0.002587\n",
            "Surface_Area                -0.658120\n",
            "Roof_Area                   -0.861828\n",
            "Name: Heating_Load, dtype: float64\n"
          ],
          "name": "stdout"
        }
      ]
    },
    {
      "cell_type": "markdown",
      "metadata": {
        "id": "37W7qmmqXlNx",
        "colab_type": "text"
      },
      "source": [
        "**Generating a Dummy Regression Dataset**\n",
        "With scikitlearn you can a create a dummy dataset by specifiying the rules you want it follow like the count, the number of predictor variables, make_regression(), creates a regression model you can also specify the amount of noise your model will have so it wont be too perfect, I chose a noise level of 10 and 8 predictor(X) variables it auto generates the y variable, so i will treat it in same manner as the original dataset, by renaming them, you can also modify the scaling but I did not bother"
      ]
    },
    {
      "cell_type": "code",
      "metadata": {
        "id": "I8MJry2aWQiU",
        "colab_type": "code",
        "colab": {}
      },
      "source": [
        "from sklearn.datasets import make_regression\n",
        "from matplotlib import pyplot"
      ],
      "execution_count": 6,
      "outputs": []
    },
    {
      "cell_type": "code",
      "metadata": {
        "id": "dDt-FxAxZDKv",
        "colab_type": "code",
        "colab": {}
      },
      "source": [
        "Xb, yb = make_regression(n_samples=768, n_features=8, noise=10, random_state=1)\n"
      ],
      "execution_count": 7,
      "outputs": []
    },
    {
      "cell_type": "code",
      "metadata": {
        "id": "SXkGmLmWZpBs",
        "colab_type": "code",
        "colab": {
          "base_uri": "https://localhost:8080/",
          "height": 204
        },
        "outputId": "5e56ff15-4638-49d9-c5ad-b1d415167dc6"
      },
      "source": [
        "df5=pd.DataFrame(Xb,yb)\n",
        "df5.reset_index()\n",
        "df5.head()"
      ],
      "execution_count": 8,
      "outputs": [
        {
          "output_type": "execute_result",
          "data": {
            "text/html": [
              "<div>\n",
              "<style scoped>\n",
              "    .dataframe tbody tr th:only-of-type {\n",
              "        vertical-align: middle;\n",
              "    }\n",
              "\n",
              "    .dataframe tbody tr th {\n",
              "        vertical-align: top;\n",
              "    }\n",
              "\n",
              "    .dataframe thead th {\n",
              "        text-align: right;\n",
              "    }\n",
              "</style>\n",
              "<table border=\"1\" class=\"dataframe\">\n",
              "  <thead>\n",
              "    <tr style=\"text-align: right;\">\n",
              "      <th></th>\n",
              "      <th>0</th>\n",
              "      <th>1</th>\n",
              "      <th>2</th>\n",
              "      <th>3</th>\n",
              "      <th>4</th>\n",
              "      <th>5</th>\n",
              "      <th>6</th>\n",
              "      <th>7</th>\n",
              "    </tr>\n",
              "  </thead>\n",
              "  <tbody>\n",
              "    <tr>\n",
              "      <th>-159.545645</th>\n",
              "      <td>-0.744387</td>\n",
              "      <td>-0.394079</td>\n",
              "      <td>-0.707782</td>\n",
              "      <td>-0.319029</td>\n",
              "      <td>0.267762</td>\n",
              "      <td>-0.478694</td>\n",
              "      <td>-0.380659</td>\n",
              "      <td>0.307383</td>\n",
              "    </tr>\n",
              "    <tr>\n",
              "      <th>-20.953029</th>\n",
              "      <td>0.346482</td>\n",
              "      <td>-0.582494</td>\n",
              "      <td>-0.303334</td>\n",
              "      <td>1.156329</td>\n",
              "      <td>-0.853881</td>\n",
              "      <td>0.032758</td>\n",
              "      <td>-0.072620</td>\n",
              "      <td>0.064841</td>\n",
              "    </tr>\n",
              "    <tr>\n",
              "      <th>-53.315416</th>\n",
              "      <td>0.001055</td>\n",
              "      <td>-0.859827</td>\n",
              "      <td>-2.026206</td>\n",
              "      <td>1.458773</td>\n",
              "      <td>0.539138</td>\n",
              "      <td>-1.089535</td>\n",
              "      <td>1.648551</td>\n",
              "      <td>-0.437908</td>\n",
              "    </tr>\n",
              "    <tr>\n",
              "      <th>265.172028</th>\n",
              "      <td>-0.074497</td>\n",
              "      <td>-0.572602</td>\n",
              "      <td>2.384405</td>\n",
              "      <td>-0.026964</td>\n",
              "      <td>1.861565</td>\n",
              "      <td>-1.618318</td>\n",
              "      <td>2.134552</td>\n",
              "      <td>-1.649750</td>\n",
              "    </tr>\n",
              "    <tr>\n",
              "      <th>-353.390003</th>\n",
              "      <td>-0.212508</td>\n",
              "      <td>-1.068460</td>\n",
              "      <td>-0.683713</td>\n",
              "      <td>0.316530</td>\n",
              "      <td>-0.407013</td>\n",
              "      <td>-1.168142</td>\n",
              "      <td>-0.058339</td>\n",
              "      <td>-2.844938</td>\n",
              "    </tr>\n",
              "  </tbody>\n",
              "</table>\n",
              "</div>"
            ],
            "text/plain": [
              "                    0         1         2  ...         5         6         7\n",
              "-159.545645 -0.744387 -0.394079 -0.707782  ... -0.478694 -0.380659  0.307383\n",
              "-20.953029   0.346482 -0.582494 -0.303334  ...  0.032758 -0.072620  0.064841\n",
              "-53.315416   0.001055 -0.859827 -2.026206  ... -1.089535  1.648551 -0.437908\n",
              " 265.172028 -0.074497 -0.572602  2.384405  ... -1.618318  2.134552 -1.649750\n",
              "-353.390003 -0.212508 -1.068460 -0.683713  ... -1.168142 -0.058339 -2.844938\n",
              "\n",
              "[5 rows x 8 columns]"
            ]
          },
          "metadata": {
            "tags": []
          },
          "execution_count": 8
        }
      ]
    },
    {
      "cell_type": "code",
      "metadata": {
        "id": "zDkY1JOkbTfI",
        "colab_type": "code",
        "colab": {
          "base_uri": "https://localhost:8080/",
          "height": 204
        },
        "outputId": "45acd0e6-893e-4669-f7b5-5c8bd85bcee2"
      },
      "source": [
        "#changing the column names to match the original dataset but the y is autogenerted lets treat it as cooling load\n",
        "column_names = {0:'Relative_Compactness', 1: 'Surface_Area',\n",
        "2: 'Wall_Area', 3: 'Roof_Area', 4: 'Overall_Height',\n",
        "5: 'Orientation', 6: 'Glazing_Area',\n",
        "7: 'Glazing_Area_Distribution'}\n",
        "df5 = df5.rename(columns=column_names)\n",
        "df5.head()"
      ],
      "execution_count": 9,
      "outputs": [
        {
          "output_type": "execute_result",
          "data": {
            "text/html": [
              "<div>\n",
              "<style scoped>\n",
              "    .dataframe tbody tr th:only-of-type {\n",
              "        vertical-align: middle;\n",
              "    }\n",
              "\n",
              "    .dataframe tbody tr th {\n",
              "        vertical-align: top;\n",
              "    }\n",
              "\n",
              "    .dataframe thead th {\n",
              "        text-align: right;\n",
              "    }\n",
              "</style>\n",
              "<table border=\"1\" class=\"dataframe\">\n",
              "  <thead>\n",
              "    <tr style=\"text-align: right;\">\n",
              "      <th></th>\n",
              "      <th>Relative_Compactness</th>\n",
              "      <th>Surface_Area</th>\n",
              "      <th>Wall_Area</th>\n",
              "      <th>Roof_Area</th>\n",
              "      <th>Overall_Height</th>\n",
              "      <th>Orientation</th>\n",
              "      <th>Glazing_Area</th>\n",
              "      <th>Glazing_Area_Distribution</th>\n",
              "    </tr>\n",
              "  </thead>\n",
              "  <tbody>\n",
              "    <tr>\n",
              "      <th>-159.545645</th>\n",
              "      <td>-0.744387</td>\n",
              "      <td>-0.394079</td>\n",
              "      <td>-0.707782</td>\n",
              "      <td>-0.319029</td>\n",
              "      <td>0.267762</td>\n",
              "      <td>-0.478694</td>\n",
              "      <td>-0.380659</td>\n",
              "      <td>0.307383</td>\n",
              "    </tr>\n",
              "    <tr>\n",
              "      <th>-20.953029</th>\n",
              "      <td>0.346482</td>\n",
              "      <td>-0.582494</td>\n",
              "      <td>-0.303334</td>\n",
              "      <td>1.156329</td>\n",
              "      <td>-0.853881</td>\n",
              "      <td>0.032758</td>\n",
              "      <td>-0.072620</td>\n",
              "      <td>0.064841</td>\n",
              "    </tr>\n",
              "    <tr>\n",
              "      <th>-53.315416</th>\n",
              "      <td>0.001055</td>\n",
              "      <td>-0.859827</td>\n",
              "      <td>-2.026206</td>\n",
              "      <td>1.458773</td>\n",
              "      <td>0.539138</td>\n",
              "      <td>-1.089535</td>\n",
              "      <td>1.648551</td>\n",
              "      <td>-0.437908</td>\n",
              "    </tr>\n",
              "    <tr>\n",
              "      <th>265.172028</th>\n",
              "      <td>-0.074497</td>\n",
              "      <td>-0.572602</td>\n",
              "      <td>2.384405</td>\n",
              "      <td>-0.026964</td>\n",
              "      <td>1.861565</td>\n",
              "      <td>-1.618318</td>\n",
              "      <td>2.134552</td>\n",
              "      <td>-1.649750</td>\n",
              "    </tr>\n",
              "    <tr>\n",
              "      <th>-353.390003</th>\n",
              "      <td>-0.212508</td>\n",
              "      <td>-1.068460</td>\n",
              "      <td>-0.683713</td>\n",
              "      <td>0.316530</td>\n",
              "      <td>-0.407013</td>\n",
              "      <td>-1.168142</td>\n",
              "      <td>-0.058339</td>\n",
              "      <td>-2.844938</td>\n",
              "    </tr>\n",
              "  </tbody>\n",
              "</table>\n",
              "</div>"
            ],
            "text/plain": [
              "             Relative_Compactness  ...  Glazing_Area_Distribution\n",
              "-159.545645             -0.744387  ...                   0.307383\n",
              "-20.953029               0.346482  ...                   0.064841\n",
              "-53.315416               0.001055  ...                  -0.437908\n",
              " 265.172028             -0.074497  ...                  -1.649750\n",
              "-353.390003             -0.212508  ...                  -2.844938\n",
              "\n",
              "[5 rows x 8 columns]"
            ]
          },
          "metadata": {
            "tags": []
          },
          "execution_count": 9
        }
      ]
    },
    {
      "cell_type": "code",
      "metadata": {
        "id": "0GdSJjNfcmIE",
        "colab_type": "code",
        "colab": {
          "base_uri": "https://localhost:8080/",
          "height": 297
        },
        "outputId": "fba77434-66aa-4e96-dc5a-b6edbbb1256a"
      },
      "source": [
        "#regression plot to see linear relationship\n",
        "sns.regplot(x=\"Relative_Compactness\", y=\"Heating_Load\", data=simple_linear_reg_df)"
      ],
      "execution_count": 10,
      "outputs": [
        {
          "output_type": "execute_result",
          "data": {
            "text/plain": [
              "<matplotlib.axes._subplots.AxesSubplot at 0x7fb1c09d2fd0>"
            ]
          },
          "metadata": {
            "tags": []
          },
          "execution_count": 10
        },
        {
          "output_type": "display_data",
          "data": {
            "image/png": "[encoded data removed]",
            "text/plain": [
              "<Figure size 432x288 with 1 Axes>"
            ]
          },
          "metadata": {
            "tags": [],
            "needs_background": "light"
          }
        }
      ]
    },
    {
      "cell_type": "code",
      "metadata": {
        "id": "J6oRB3mfe6oC",
        "colab_type": "code",
        "colab": {}
      },
      "source": [
        "# I'd like to plot true vs predicted graph so i can run the linear model on sklearn\n",
        "from sklearn.model_selection import train_test_split  # to split data\n",
        "from sklearn.linear_model import LinearRegression # the model used, it is used for single and multivaraiate"
      ],
      "execution_count": 11,
      "outputs": []
    },
    {
      "cell_type": "code",
      "metadata": {
        "id": "52vDUzVsknZj",
        "colab_type": "code",
        "colab": {}
      },
      "source": [
        "X =  df1[['Relative_Compactness']] #chosen predictor\n",
        "y =  df1[['Heating_Load']] #target variable, you can set multiple predictors or target varaiables\n",
        "\n",
        "X_train,X_test,y_train,y_test = train_test_split(X,y,test_size=0.33,random_state=1)\n",
        "lR = LinearRegression().fit(X_train, y_train)\n",
        "lR_pred= lR.predict(X_test) # the predicted variable"
      ],
      "execution_count": 12,
      "outputs": []
    },
    {
      "cell_type": "code",
      "metadata": {
        "id": "kfXRGBV6lsjG",
        "colab_type": "code",
        "colab": {
          "base_uri": "https://localhost:8080/",
          "height": 296
        },
        "outputId": "69f1bc11-f928-43f1-a85c-cb5d46eb52a2"
      },
      "source": [
        "# This graph shows the errors in our simple linear relationships\n",
        "sns.regplot(x= y_test,y=lR_pred,color='green')\n",
        "plt.xlabel(\"True Values\")\n",
        "plt.ylabel(\"Predicted Values\")"
      ],
      "execution_count": 13,
      "outputs": [
        {
          "output_type": "execute_result",
          "data": {
            "text/plain": [
              "Text(0, 0.5, 'Predicted Values')"
            ]
          },
          "metadata": {
            "tags": []
          },
          "execution_count": 13
        },
        {
          "output_type": "display_data",
          "data": {
            "image/png": "[encoded data removed]",
            "text/plain": [
              "<Figure size 432x288 with 1 Axes>"
            ]
          },
          "metadata": {
            "tags": [],
            "needs_background": "light"
          }
        }
      ]
    },
    {
      "cell_type": "code",
      "metadata": {
        "id": "tc-OaoIvopNl",
        "colab_type": "code",
        "colab": {}
      },
      "source": [
        "Xc =  df5[['Relative_Compactness']]\n",
        "X_train1,X_test1,y_train1,y_test1 = train_test_split(Xc,yb,test_size=0.33,random_state=1)\n",
        "lRD = LinearRegression().fit(X_train1, y_train1)\n",
        "lRD_pred = lRD.predict(X_test1)"
      ],
      "execution_count": 14,
      "outputs": []
    },
    {
      "cell_type": "code",
      "metadata": {
        "id": "QC8JPKnU4W2H",
        "colab_type": "code",
        "colab": {
          "base_uri": "https://localhost:8080/",
          "height": 296
        },
        "outputId": "450a7e6c-e89d-4318-9d15-4645c2e32242"
      },
      "source": [
        "#incontrast to the real world data, the dummy data is showing a relatively accurate linear relationship if you reduce the noise level the data points perfectly align.\n",
        "sns.regplot(x= y_test1,y=lRD_pred,color='green')\n",
        "labs = plt.xlabel(\"Dummy True Values\")\n",
        "labs.set_color(\"red\")\n",
        "plt.ylabel(\"Dummy Predicted Values\")"
      ],
      "execution_count": 15,
      "outputs": [
        {
          "output_type": "execute_result",
          "data": {
            "text/plain": [
              "Text(0, 0.5, 'Dummy Predicted Values')"
            ]
          },
          "metadata": {
            "tags": []
          },
          "execution_count": 15
        },
        {
          "output_type": "display_data",
          "data": {
            "image/png": "[encoded data removed]",
            "text/plain": [
              "<Figure size 432x288 with 1 Axes>"
            ]
          },
          "metadata": {
            "tags": [],
            "needs_background": "light"
          }
        }
      ]
    },
    {
      "cell_type": "markdown",
      "metadata": {
        "id": "oxZUIx8oU_RN",
        "colab_type": "text"
      },
      "source": [
        "Homoscedasticity: the residuals or prediction errors are of equal or constant variance.this is shown inthe residual plot"
      ]
    },
    {
      "cell_type": "code",
      "metadata": {
        "id": "3D9zr0g_NSRg",
        "colab_type": "code",
        "colab": {
          "base_uri": "https://localhost:8080/",
          "height": 297
        },
        "outputId": "9cbb9754-3bcf-4ab3-ed0a-6ab6d9204161"
      },
      "source": [
        "sns.residplot(x=Xc, y=yb,color=\"green\", data=df)"
      ],
      "execution_count": 16,
      "outputs": [
        {
          "output_type": "execute_result",
          "data": {
            "text/plain": [
              "<matplotlib.axes._subplots.AxesSubplot at 0x7fb1be8763c8>"
            ]
          },
          "metadata": {
            "tags": []
          },
          "execution_count": 16
        },
        {
          "output_type": "display_data",
          "data": {
            "image/png": "[encoded data removed]",
            "text/plain": [
              "<Figure size 432x288 with 1 Axes>"
            ]
          },
          "metadata": {
            "tags": [],
            "needs_background": "light"
          }
        }
      ]
    },
    {
      "cell_type": "markdown",
      "metadata": {
        "id": "aN-BsmXxVbNZ",
        "colab_type": "text"
      },
      "source": [
        "**Normality**: the residuals are of a normal distributionThe energy efficiency dataset flouts this assumption as the residuals are clearly not normally distributed while the dummy dataset has normally distributed residuals with the mean and median at 0."
      ]
    },
    {
      "cell_type": "code",
      "metadata": {
        "id": "zmaOZ5u3VTiJ",
        "colab_type": "code",
        "colab": {}
      },
      "source": [
        "# Inorder to plot the df, I convert them into numpy object as the current form was not working.\n",
        "d = np.floor(y_test)\n",
        "case = pd.DataFrame(d)\n",
        "e = np.floor(lR_pred)\n",
        "stuff = pd.DataFrame(e)\n",
        "case.reset_index(drop=True,inplace=True)\n",
        "f=case[\"Heating_Load\"]-stuff[0]"
      ],
      "execution_count": 17,
      "outputs": []
    },
    {
      "cell_type": "code",
      "metadata": {
        "id": "M-HpvaqUbW_R",
        "colab_type": "code",
        "colab": {
          "base_uri": "https://localhost:8080/",
          "height": 282
        },
        "outputId": "b1503cb7-65ab-442b-9f2a-fc0bce1d189d"
      },
      "source": [
        "sns.distplot(f)"
      ],
      "execution_count": 18,
      "outputs": [
        {
          "output_type": "execute_result",
          "data": {
            "text/plain": [
              "<matplotlib.axes._subplots.AxesSubplot at 0x7fb1be701ef0>"
            ]
          },
          "metadata": {
            "tags": []
          },
          "execution_count": 18
        },
        {
          "output_type": "display_data",
          "data": {
            "image/png": "[encoded data removed]",
            "text/plain": [
              "<Figure size 432x288 with 1 Axes>"
            ]
          },
          "metadata": {
            "tags": [],
            "needs_background": "light"
          }
        }
      ]
    },
    {
      "cell_type": "code",
      "metadata": {
        "id": "WY74ClIU3pL6",
        "colab_type": "code",
        "colab": {
          "base_uri": "https://localhost:8080/",
          "height": 555
        },
        "outputId": "84a7cf51-2c6e-4144-c861-f8250b9ba4b2"
      },
      "source": [
        "g = y_test - lR_pred \n",
        "plt.figure(figsize=(16, 9))\n",
        "sns.distplot(g, bins=9, label=\"residual\")\n",
        "plt.legend()"
      ],
      "execution_count": 19,
      "outputs": [
        {
          "output_type": "execute_result",
          "data": {
            "text/plain": [
              "<matplotlib.legend.Legend at 0x7fb1bd4a41d0>"
            ]
          },
          "metadata": {
            "tags": []
          },
          "execution_count": 19
        },
        {
          "output_type": "display_data",
          "data": {
            "image/png": "[encoded data removed]",
            "text/plain": [
              "<Figure size 1152x648 with 1 Axes>"
            ]
          },
          "metadata": {
            "tags": [],
            "needs_background": "light"
          }
        }
      ]
    },
    {
      "cell_type": "code",
      "metadata": {
        "id": "i3J9xyrLiEWJ",
        "colab_type": "code",
        "colab": {}
      },
      "source": [
        "h= np.floor(y_test1)\n",
        "buff=pd.DataFrame(h)\n",
        "i= np.floor(lRD_pred)\n",
        "buff2=pd.DataFrame(i)\n",
        "buff.reset_index(drop=True,inplace=True)\n",
        "j=buff[0]-buff2[0]"
      ],
      "execution_count": 20,
      "outputs": []
    },
    {
      "cell_type": "code",
      "metadata": {
        "id": "v76MTGv27SaI",
        "colab_type": "code",
        "colab": {
          "base_uri": "https://localhost:8080/",
          "height": 296
        },
        "outputId": "db78fdba-49bb-4329-a5ab-993d55e6b8b6"
      },
      "source": [
        "#sns.distplot(j,kde_kws={'bw':1.5},hist=False)\n",
        "sns.distplot(j)"
      ],
      "execution_count": 21,
      "outputs": [
        {
          "output_type": "execute_result",
          "data": {
            "text/plain": [
              "<matplotlib.axes._subplots.AxesSubplot at 0x7fb1bd3ef080>"
            ]
          },
          "metadata": {
            "tags": []
          },
          "execution_count": 21
        },
        {
          "output_type": "display_data",
          "data": {
            "image/png": "[encoded data removed]",
            "text/plain": [
              "<Figure size 432x288 with 1 Axes>"
            ]
          },
          "metadata": {
            "tags": [],
            "needs_background": "light"
          }
        }
      ]
    },
    {
      "cell_type": "markdown",
      "metadata": {
        "id": "BQX49i5f8u5W",
        "colab_type": "text"
      },
      "source": [
        "**Colinearity** Independence of the observations, In multiple linear regression where there are more predictors, it is assumed that these variables are independent of each other without any strong correlation between them. The energy efficiency dataset shows a strong correlation between relative compactness and surface area, relative compactness and overall height, surface area and roof area while the variables in the dummy dataset are seen to be independent of each other. Overall, before inferences are drawn from a linear regression model, all the assumptions discussed above must have been met."
      ]
    },
    {
      "cell_type": "code",
      "metadata": {
        "id": "hMfiQ7L07fzb",
        "colab_type": "code",
        "colab": {
          "base_uri": "https://localhost:8080/",
          "height": 405
        },
        "outputId": "77c81d4e-4646-496a-e9a8-d68529543e45"
      },
      "source": [
        "dfa=df1.drop([\"Cooling_Load\",\"Heating_Load\"],axis=1) #removing the target variable so observe\n",
        "#the relationship between predictors\n",
        "sns.heatmap(dfa.corr(),annot=True)"
      ],
      "execution_count": 22,
      "outputs": [
        {
          "output_type": "execute_result",
          "data": {
            "text/plain": [
              "<matplotlib.axes._subplots.AxesSubplot at 0x7fb1c2f74b38>"
            ]
          },
          "metadata": {
            "tags": []
          },
          "execution_count": 22
        },
        {
          "output_type": "display_data",
          "data": {
            "image/png": "[encoded data removed]",
            "text/plain": [
              "<Figure size 432x288 with 2 Axes>"
            ]
          },
          "metadata": {
            "tags": [],
            "needs_background": "light"
          }
        }
      ]
    },
    {
      "cell_type": "code",
      "metadata": {
        "id": "x870Bmvy9aEx",
        "colab_type": "code",
        "colab": {
          "base_uri": "https://localhost:8080/",
          "height": 405
        },
        "outputId": "f23b5668-bc0a-414e-838d-f2e0227a1ec2"
      },
      "source": [
        "sns.heatmap(df5.corr(),annot=True)"
      ],
      "execution_count": 23,
      "outputs": [
        {
          "output_type": "execute_result",
          "data": {
            "text/plain": [
              "<matplotlib.axes._subplots.AxesSubplot at 0x7fb1baaacf60>"
            ]
          },
          "metadata": {
            "tags": []
          },
          "execution_count": 23
        },
        {
          "output_type": "display_data",
          "data": {
            "image/png": "[encoded data removed]",
            "text/plain": [
              "<Figure size 432x288 with 2 Axes>"
            ]
          },
          "metadata": {
            "tags": [],
            "needs_background": "light"
          }
        }
      ]
    },
    {
      "cell_type": "markdown",
      "metadata": {
        "id": "pvKjhEe2SMv_",
        "colab_type": "text"
      },
      "source": [
        "**Lesson** **2**- Multiple Linear **Regression**\n",
        "Unlike simple linear regression, multiple linear regression establishes the relationship between the response variable and the predictors (usually two or more). In reality, several factors contribute to a certain outcome as opposed to just one as suggested by simple linear regression. Multiple linear regression has similar assumptions as simple linear regression and also assumes that there is no significant correlation between the predictors. While the relationship between variables can be linear, it allows for non-linear relationships that are not straight lines.\n",
        "\n",
        "Y= 𝜃 + 𝜃 X + 𝜃 X + . . . + 𝜃 X + ɛ\n"
      ]
    },
    {
      "cell_type": "markdown",
      "metadata": {
        "id": "losIGkj_S4Jq",
        "colab_type": "text"
      },
      "source": [
        "**Section** **A**- **Collinearity**\n",
        "Correlation is a measure used to describe the linear relationship between two variables. Correlation values range from -1 for a perfect negative correlation (an increase in one variable causes a decrease in the other variable) to +1 for a perfect positive correlation (both variables increase or decrease together). A correlation value of 0 indicates that there is absolutely no correlation between both variables. A situation where two or more of the predictors have a strong correlation is known as multicollinearity. Since predictors are expected to be independent, when multicollinearity occurs, the correlated variables cannot independently contribute to predicting the value of the response variable. In addition, not all the predictors included are relevant in obtaining better results from the model. Adding more independent variables to the model is not always better instead, it might only make the model more complicated. To resolve this, one of the correlated predictors is selected and the other removed from the data.\n",
        "\n",
        "This basically explains the correlation heatmap in the previous lesson the more linear the relationship between the target variables and the predictors the less correlation the features should have with each other"
      ]
    },
    {
      "cell_type": "markdown",
      "metadata": {
        "id": "7VYEkOLMdNAm",
        "colab_type": "text"
      },
      "source": [
        "**Polynomial** **Regression**\n",
        "A polynomial regression model is considered a linear regression model that can be used when a curvilinear relationship exists between the predictors and the response variable. It can be represented as Y= 𝜃 + 𝜃 X + 𝜃 X + . . . + 𝜃 X + ɛ, for a single independent variable where n is the degree of the polynomial and Y is a linear function of 𝜃. Depending on the task and data, there might be multiple predictors in a polynomial regression model which results in more interactions in the model. As expected, the complexity in the model increases as the degree increases.\n",
        "\n",
        "**Coefficients of multiple linear regression**\n",
        "**General notations**\n",
        "**AKA Interaction Effect (Synergy)**\n",
        "This involves creating new feature that would that are a result of the multiplication or division of new feature that may have a stronger effect on the target variable, we will know the effect when measuring the Regression Performance, this should be done carefully with every step of the way to ensure that you dont add a new feature that can damage your model, I will test this out in the next lesson.\n",
        "\n",
        "**Lesson 3- Measuring Regression Performance**\n",
        "Evaluation Metrics for performance (RSS, R-Squared, RMSE, MAE etc)\n",
        "How well a regression model performs can be obtained by how close the predicted value is to the ground truth. It is very important to use the appropriate metric to evaluate the performance. In this section, we discuss some examples of metrics used in evaluating regression models such as RSS, R-Squared,RMSE and MAE"
      ]
    },
    {
      "cell_type": "markdown",
      "metadata": {
        "id": "NF3DTb_keLFI",
        "colab_type": "text"
      },
      "source": [
        "**Multiple-Linear Regression**\n",
        "Implementation of lesson two concepts with sklearn"
      ]
    },
    {
      "cell_type": "code",
      "metadata": {
        "id": "hoKfL8Ts9PTP",
        "colab_type": "code",
        "colab": {}
      },
      "source": [
        "#Firstly, we normalise our dataset to a common scale using the min max scaler, this makes the model more efficient I personally did not do this in this in my earlier model."
      ],
      "execution_count": 24,
      "outputs": []
    },
    {
      "cell_type": "code",
      "metadata": {
        "id": "LTA_6mQlfzeI",
        "colab_type": "code",
        "colab": {}
      },
      "source": [
        "from sklearn.preprocessing import MinMaxScaler\n",
        "scaler = MinMaxScaler()\n",
        "normalised_df = pd.DataFrame(scaler.fit_transform(df1), columns=df1.columns)\n",
        "features_df = normalised_df.drop(columns=['Heating_Load', 'Cooling_Load'])\n",
        "heating_target = normalised_df['Heating_Load']"
      ],
      "execution_count": 25,
      "outputs": []
    },
    {
      "cell_type": "code",
      "metadata": {
        "id": "xmD9-9GBh5OI",
        "colab_type": "code",
        "colab": {}
      },
      "source": [
        "# In this they are using heating load as target, previously all the graphs were plotted with the cooling load, Now, we split our dataset into the training and testing dataset. \n",
        "# Recall that we had earlier segmented the features and target variables.\n",
        "from sklearn.model_selection import train_test_split\n",
        "x_train, x_test, y_train, y_tests = train_test_split(features_df, heating_target,test_size=0.3, random_state=1)\n",
        "linear_model = LinearRegression()\n",
        "#fit the model to the training dataset\n",
        "linear_model.fit(x_train, y_train)\n",
        "#obtain predictions\n",
        "predicted_values = linear_model.predict(x_test)"
      ],
      "execution_count": 26,
      "outputs": []
    },
    {
      "cell_type": "markdown",
      "metadata": {
        "id": "ToMJE_rKiw-o",
        "colab_type": "text"
      },
      "source": [
        "**Mean Absolute Error (MAE)**\n",
        "MAE is easy and intuitive such that it calculates the sum of the average of the absolute error between the predicted values and the true values. Since the absolute difference is taken, this metric does not consider direction. However, because the absolute difference is obtained, it is unable to give information about the model overshooting or undershooting. The smaller the MAE is, the better the model. Therefore, if the MAE is 0, the model is perfect and accurately predicts results which is almost impossible. The mean absolute error is more robust to outliers.\n",
        "\n",
        "where yi = true value\n",
        "\n",
        "$\\hat{y}$i = predicted value¶\n",
        "\n",
        "MAE **calculation**"
      ]
    },
    {
      "cell_type": "code",
      "metadata": {
        "id": "yz5EhLEliSrg",
        "colab_type": "code",
        "colab": {
          "base_uri": "https://localhost:8080/",
          "height": 34
        },
        "outputId": "b12bb24b-de3c-4267-8e6f-d6b1d0c496d7"
      },
      "source": [
        "#MAE\n",
        "from sklearn.metrics import mean_absolute_error\n",
        "mae = mean_absolute_error(y_tests, predicted_values)\n",
        "round(mae, 3)"
      ],
      "execution_count": 27,
      "outputs": [
        {
          "output_type": "execute_result",
          "data": {
            "text/plain": [
              "0.063"
            ]
          },
          "metadata": {
            "tags": []
          },
          "execution_count": 27
        }
      ]
    },
    {
      "cell_type": "markdown",
      "metadata": {
        "id": "zGduBSrtj0a8",
        "colab_type": "text"
      },
      "source": [
        "Residual Sum of Squares (RSS)\n",
        "Also known as the sum of squared residuals (SSR), this metric explains the variance in the representation of the dataset by the model; it measures how well the model approximates the data. A residual is the estimated error made by a model. In simpler terms, it is the difference between the nth true value and the nth predicted value by the model. RSS is the sum of the square of errors between the residuals in a model. The lower the RSS, the better the model’s estimations and vice versa.\n",
        "\n",
        "$$\\begin{array}{rrl}\n",
        "\\text{Residual sum of Squares (RSS)} &amp; = &amp; \\sum_{i=1}^{\\href{sample_size}{N}}(\\href{residual}{residual})^2 \\\\\n",
        "RSS &amp; = &amp; \\sum_{i=1}^{\\href{sample_size}{N}}(\\href{residual}{e_i})^2 \\\\\n",
        "RSS &amp; = &amp; \\sum_{i=1}^{\\href{sample_size}{N}}(Y_i-\\hat{Y_i})^2 \\\\\n",
        "\\end{array}$$"
      ]
    },
    {
      "cell_type": "code",
      "metadata": {
        "id": "-Hvgq-SpjXwi",
        "colab_type": "code",
        "colab": {
          "base_uri": "https://localhost:8080/",
          "height": 34
        },
        "outputId": "8ec3e8e2-c76b-4266-bd83-851be42eb3f3"
      },
      "source": [
        "import numpy as np\n",
        "y_test6=np.array(y_tests)\n",
        "predicted_values6= np.array(predicted_values)\n",
        "rss = np.sum(np.square(y_test6-predicted_values6))\n",
        "round(rss,3)"
      ],
      "execution_count": 28,
      "outputs": [
        {
          "output_type": "execute_result",
          "data": {
            "text/plain": [
              "1.823"
            ]
          },
          "metadata": {
            "tags": []
          },
          "execution_count": 28
        }
      ]
    },
    {
      "cell_type": "markdown",
      "metadata": {
        "id": "pw5zHghQe7-3",
        "colab_type": "text"
      },
      "source": [
        "Root Mean Square Error (RMSE)\n",
        "This is the same as the mean square error (MSE) but, it is the square root of the MSE that estimates the standard deviation of the residuals. It describes the spread of the residuals from the line of best fit and the noise in the model. When the RMSE is low, it means that the error made by the model has a small deviation from the true values. It is calculated by summing the squares of the residuals and dividing by the number of observations.\n",
        "\n",
        "$\\text{Root mean squared error (RMSE|RMSD)}= \\sqrt{\\frac{\\displaystyle \\sum_{i=1}^N (Y_i-\\hat{Y_i})^2}{N}}$"
      ]
    },
    {
      "cell_type": "code",
      "metadata": {
        "id": "TJvz5ZnlkJft",
        "colab_type": "code",
        "colab": {
          "base_uri": "https://localhost:8080/",
          "height": 34
        },
        "outputId": "5c848f21-784e-499b-8840-b06ba2eb3b71"
      },
      "source": [
        "from sklearn.metrics import mean_squared_error\n",
        "rmse = np.sqrt(mean_squared_error(y_tests, predicted_values))\n",
        "round(rmse, 3)"
      ],
      "execution_count": 29,
      "outputs": [
        {
          "output_type": "execute_result",
          "data": {
            "text/plain": [
              "0.089"
            ]
          },
          "metadata": {
            "tags": []
          },
          "execution_count": 29
        }
      ]
    },
    {
      "cell_type": "markdown",
      "metadata": {
        "id": "XTN7QI7-Wt7T",
        "colab_type": "text"
      },
      "source": [
        "**R - Squared**\n",
        "Also known as the coefficient of determination, r-squared is a metric used in regression to determine the goodness of fit of the model. With values ranging from 0 to 1, It gives information on the percentage of the response variable explained by the model. Mostly, the higher the value, the better the model however, this is not necessarily always true.\n",
        "\n",
        "$$\\begin{array}{rrl}\n",
        "R^2 &amp; = &amp; 1 - \\frac{\\href{RSS}{RSS}}{TSS} \\\\\n",
        "TSS &amp; = &amp; \\sum^N_{i=0} (y_i - \\bar{y})^2 \\\\\n",
        "RSS &amp; = &amp; \\sum_{i=1}^{\\href{sample_size}{N}}(Y_i-\\hat{Y_i})^2 \\\\\n",
        "\\end{array}$$\n",
        "where SSres = residual sum of squares =RSS\n",
        "SStot = Total sum of squares= TSS¶\n",
        "$\\bar{y}$ = mean of the observed data"
      ]
    },
    {
      "cell_type": "code",
      "metadata": {
        "id": "CVpRzE0rYUGG",
        "colab_type": "code",
        "colab": {
          "base_uri": "https://localhost:8080/",
          "height": 34
        },
        "outputId": "20fe6374-e645-456c-fde8-e98264a52435"
      },
      "source": [
        "from sklearn.metrics import r2_score\n",
        "r2_score = r2_score(y_tests, predicted_values)\n",
        "round(r2_score, 3)"
      ],
      "execution_count": 30,
      "outputs": [
        {
          "output_type": "execute_result",
          "data": {
            "text/plain": [
              "0.893"
            ]
          },
          "metadata": {
            "tags": []
          },
          "execution_count": 30
        }
      ]
    },
    {
      "cell_type": "markdown",
      "metadata": {
        "id": "I6tZJT12Y_m9",
        "colab_type": "text"
      },
      "source": [
        "Reading Recommendations\n",
        "Data Mining - Root mean squared (Error|Deviation) (RMSE|RMSD) https://datacadamia.com/data_mining/rmse?s[]=rmse\n",
        "\n",
        "Statistics - Residual sum of Squares (RSS) = Squared loss ? https://datacadamia.com/data_mining/rss\n",
        "\n",
        "dataacademia is a great resource for learning statistical and machine learining concepts and their equations are written in LaTex not copy-pasted images"
      ]
    },
    {
      "cell_type": "markdown",
      "metadata": {
        "id": "LuZ6qE-9Z3Vq",
        "colab_type": "text"
      },
      "source": [
        "**Showing the interaction effect from lesson 2**"
      ]
    },
    {
      "cell_type": "code",
      "metadata": {
        "id": "zomBfYRWZ2Zp",
        "colab_type": "code",
        "colab": {
          "base_uri": "https://localhost:8080/",
          "height": 34
        },
        "outputId": "c1480ee9-16b3-4eff-c445-1ee05aa046a2"
      },
      "source": [
        "dfv=df1\n",
        "dfv[\"interaction\"] =dfv[\"Overall_Height\"]*dfv[\"Relative_Compactness\"]\n",
        "\n",
        "#creating a new feature\n",
        "from sklearn.preprocessing import MinMaxScaler\n",
        "scaler = MinMaxScaler()\n",
        "normalised_dfv = pd.DataFrame(scaler.fit_transform(dfv), columns=dfv.columns)\n",
        "features_dfv = normalised_dfv.drop(columns=['Heating_Load', 'Cooling_Load'])\n",
        "heating_target = normalised_dfv['Heating_Load']\n",
        "\n",
        "from sklearn.model_selection import train_test_split\n",
        "x_train, x_test, y_train, y_tests = train_test_split(features_dfv, heating_target,test_size=0.3, random_state=1)\n",
        "linear_model = LinearRegression()\n",
        "#fit the model to the training dataset\n",
        "linear_model.fit(x_train, y_train)\n",
        "#obtain predictions\n",
        "predicted_values = linear_model.predict(x_test)\n",
        "\n",
        "#RMSE\n",
        "from sklearn.metrics import mean_squared_error\n",
        "rmse = np.sqrt(mean_squared_error(y_tests, predicted_values))\n",
        "round(rmse, 3)"
      ],
      "execution_count": 31,
      "outputs": [
        {
          "output_type": "execute_result",
          "data": {
            "text/plain": [
              "0.084"
            ]
          },
          "metadata": {
            "tags": []
          },
          "execution_count": 31
        }
      ]
    },
    {
      "cell_type": "markdown",
      "metadata": {
        "id": "XJn98YXHU1AJ",
        "colab_type": "text"
      },
      "source": [
        "as you can seethe RMSE decreased due to the interaction effect, our goal is to reduce RMSE but this is not always the case especially if you use predictors that do not aid the model\n",
        "\n",
        "Model complexity, Underfitting and Overfitting\n",
        "Model complexity refers to the number of input features used to train a model and the algorithmic learning complexity. An overly complex model can be difficult to interpret, prone to overfitting and also require more computing. When creating models, it is imperative for the model to generalise well enough to make reasonable predictions on new and unseen data. An overfit model will perform well on the training data and poorly on unseen data. While a model is required to learn the actual relationship of the variables in the training set, an overfit model memorises the training set, fits the noise, outliers and irrelevant information, then makes predictions based on this noise which is incorrect. On the other hand, when a model is too simple, it can be as a result of having very few features not sufficient enough to learn details and relationships in the data. In a later section, we will discuss methods that can be used to achieve optimal and acceptable model complexities while avoiding overfitting and underfitting.\n",
        "\n",
        "The Bias-Variance tradeoff\n",
        "Bias and variance are common occurrences in machine learning and there is a constant struggle to achieve low bias and variance. Bias is a measure of correctness of a model i.e. how far off is a model from being correct? While high bias results in an increase in the error by making assumptions which prevent the model from capturing relevant relationships between the predictors and response variable, low bias gives lower error and also prevents underfitting by capturing important relationships. On the other hand, variance tells how much the values estimated by a model will vary across different training data. When the variance is low, it means that there is only a small change in the estimate of the model with new training data. A high variance causes overfitting such that the changes in estimates obtained with new training data is large because the model is so complex that it has now learnt patterns from one training data such that it cannot generalise to other training sets. While it is essential to obtain low bias and low variance, it is almost impossible to achieve this simultaneously which is where the ‘bias-variance tradeoff’ occurs.\n",
        "\n",
        "Reading REcommendations\n",
        "Bias/Variance Trade-off in Classification(Machine Learning) - The Genius Blog https://www.kindsonthegenius.com/blog/2018/01/bias-variance-trade-off-in-classificationmachine-learning.html\n",
        "\n",
        "Bias-Variance Tradeoff in Machine Learning https://ai-pool.com/a/s/bias-variance-tradeoff-in-machine-learning\n",
        "\n",
        "Understanding the Bias-Variance Tradeoff | by Seema Singh | Towards Data Science https://towardsdatascience.com/understanding-the-bias-variance-tradeoff-165e6942b229\n",
        "\n",
        "Lesson 4 - Penalization Methods\n",
        "Regulating over- and under-fitting Regularization is a method used to make complex models simpler by penalising coefficients to reduce their magnitude, variance in the training set and in turn, reduce overfitting in the model. Regularization occurs by shrinking the coefficients in the model towards zero such that the complexity term added to the model will result in a bigger loss for models with a higher complexity . There are two types of regression techniques such as Ridge and Lasso regression. Ridge Regression Also known as L2 Regularisation, this is a technique that uses a penalty term to shrink the magnitude of coefficients towards zero without eliminating them. The shrinkage prevents overfitting caused by the complexity of the model or collinearity. It includes the square magnitude of the coefficients to the loss function as the penalty term. If the error is defined as the square of residual, when a L2 regularization term is added, the result is the equation below. \n",
        "loss with L2 regularization = Error(y,$\\hat{y}$) + $\\lambda$$\\sum_{i}^{n} W^2_i$<a class=\"anchor-link\" href=\"#loss-with-L2-regularization-=-Error(y,$\\hat{y}$)-+-$\\lambda$$\\sum_{i}^{n}-W^2_i$\">¶\n",
        "where w = weight of coefficients\n",
        "\n",
        "$\\lambda$ = regularization parameter\n",
        "\n",
        "as lambda increases, the penalty increases causing more coefficients to shrink in the same vein, if lambda is zero, it results in the loss function."
      ]
    },
    {
      "cell_type": "code",
      "metadata": {
        "id": "15PiOHExLbIj",
        "colab_type": "code",
        "colab": {
          "base_uri": "https://localhost:8080/",
          "height": 51
        },
        "outputId": "c4de36c3-537f-45e7-c91f-318d84e27839"
      },
      "source": [
        "from sklearn.linear_model import Ridge\n",
        "ridge_reg = Ridge(alpha=0.5)\n",
        "ridge_reg.fit(x_train, y_train)"
      ],
      "execution_count": 32,
      "outputs": [
        {
          "output_type": "execute_result",
          "data": {
            "text/plain": [
              "Ridge(alpha=0.5, copy_X=True, fit_intercept=True, max_iter=None,\n",
              "      normalize=False, random_state=None, solver='auto', tol=0.001)"
            ]
          },
          "metadata": {
            "tags": []
          },
          "execution_count": 32
        }
      ]
    },
    {
      "cell_type": "markdown",
      "metadata": {
        "id": "-2cM_9y26VnL",
        "colab_type": "text"
      },
      "source": [
        "**Feature Selection,** \n",
        "The LASSO Regression and Elastic Net\n",
        "Feature Selection and Lasso Regression Some datasets can be high dimensional with a very high number of features and some of them not contributing towards predicting the response variable. As a result, it becomes more computationally expensive to train a model and can also introduce noise causing the model to perform poorly. The process of selecting significant features that contribute the most in obtaining high performing models is known as feature selection. Lasso regression (Least Absolute Shrinkage and Selection Operator) reduces overfitting of the dataset by penalising the coefficients such that some coefficients are shrunk to zero and, indirectly performs feature selection by selecting only a subset of features leaving only relevant variables that minimize prediction errors. By using L1 regularisation, it includes the absolute value of the magnitude to the loss function. The application of L1 regularisation (Lasso regression) results in simpler and sparse models that allow for better interpretation. Although lasso regression helps prevent overfitting, one major limitation is that it does not consider other factors when eliminating predictors. For example, it arbitrarily eliminates a variable from a correlated pair which might not be a good rational from a human perspective. When a L1 regularization term is added, the result is the equation below.\n",
        "\n",
        "¶\n",
        "where w = weight of coefficients\n",
        "\n",
        "$\\lambda$ = regularization parameter"
      ]
    },
    {
      "cell_type": "code",
      "metadata": {
        "id": "cFB-q9ba6pN3",
        "colab_type": "code",
        "colab": {
          "base_uri": "https://localhost:8080/",
          "height": 68
        },
        "outputId": "4fbbe459-cd67-41ed-a3c9-9f2c4933cb42"
      },
      "source": [
        "from sklearn.linear_model import Lasso\n",
        "Lasso_reg = Lasso(alpha = 0.001)\n",
        "Lasso_reg.fit(x_train, y_train)"
      ],
      "execution_count": 33,
      "outputs": [
        {
          "output_type": "execute_result",
          "data": {
            "text/plain": [
              "Lasso(alpha=0.001, copy_X=True, fit_intercept=True, max_iter=1000,\n",
              "      normalize=False, positive=False, precompute=False, random_state=None,\n",
              "      selection='cyclic', tol=0.0001, warm_start=False)"
            ]
          },
          "metadata": {
            "tags": []
          },
          "execution_count": 33
        }
      ]
    },
    {
      "cell_type": "code",
      "metadata": {
        "id": "qOlDQzU5YXmq",
        "colab_type": "code",
        "colab": {
          "base_uri": "https://localhost:8080/",
          "height": 122
        },
        "outputId": "24c74b7f-25c5-47b1-f717-743014b4116b"
      },
      "source": [
        "from sklearn.linear_model import ElasticNet\n",
        "regr = ElasticNet(alpha = 0.0001)\n",
        "regr.fit(x_train, y_train)"
      ],
      "execution_count": 34,
      "outputs": [
        {
          "output_type": "stream",
          "text": [
            "/usr/local/lib/python3.6/dist-packages/sklearn/linear_model/_coordinate_descent.py:476: ConvergenceWarning: Objective did not converge. You might want to increase the number of iterations. Duality gap: 0.09548138238157744, tolerance: 0.003944969110754326\n",
            "  positive)\n"
          ],
          "name": "stderr"
        },
        {
          "output_type": "execute_result",
          "data": {
            "text/plain": [
              "ElasticNet(alpha=0.0001, copy_X=True, fit_intercept=True, l1_ratio=0.5,\n",
              "           max_iter=1000, normalize=False, positive=False, precompute=False,\n",
              "           random_state=None, selection='cyclic', tol=0.0001, warm_start=False)"
            ]
          },
          "metadata": {
            "tags": []
          },
          "execution_count": 34
        }
      ]
    },
    {
      "cell_type": "code",
      "metadata": {
        "id": "s6LkRZDRY9ub",
        "colab_type": "code",
        "colab": {}
      },
      "source": [
        "# comparing the effect of regularisation \n",
        "def get_weights_df(model, feat, col_name):\n",
        "  # this function returns the weights of every feature\n",
        "  weights = pd.Series(model.coef_, feat.columns).sort_values()\n",
        "  weights_df = pd.DataFrame(weights).reset_index()\n",
        "  weights_df.columns = ['Features', col_name]\n",
        "  weights_df[col_name].round(3)\n",
        "  return weights_df\n",
        "linear_model_weights = get_weights_df(linear_model, x_train, 'Linear_Model_Weight')\n",
        "ridge_weights_df = get_weights_df(ridge_reg, x_train, 'Ridge_Weight')\n",
        "lasso_weights_df = get_weights_df(Lasso_reg, x_train, 'Lasso Weights')\n",
        "elastic_weights_df = get_weights_df(regr, x_train, 'elastic weights')\n",
        "final_weights = pd.merge(linear_model_weights, ridge_weights_df, on = 'Features')\n",
        "final_weights = pd.merge(final_weights, lasso_weights_df, on='Features')\n",
        "final_weights = pd.merge(final_weights, elastic_weights_df, on='Features')"
      ],
      "execution_count": 35,
      "outputs": []
    },
    {
      "cell_type": "code",
      "metadata": {
        "id": "E_JD2i1wj9Ne",
        "colab_type": "code",
        "colab": {
          "base_uri": "https://localhost:8080/",
          "height": 328
        },
        "outputId": "13d4bf09-25f4-475a-ae95-5037efb728c8"
      },
      "source": [
        "final_weights"
      ],
      "execution_count": 36,
      "outputs": [
        {
          "output_type": "execute_result",
          "data": {
            "text/html": [
              "<div>\n",
              "<style scoped>\n",
              "    .dataframe tbody tr th:only-of-type {\n",
              "        vertical-align: middle;\n",
              "    }\n",
              "\n",
              "    .dataframe tbody tr th {\n",
              "        vertical-align: top;\n",
              "    }\n",
              "\n",
              "    .dataframe thead th {\n",
              "        text-align: right;\n",
              "    }\n",
              "</style>\n",
              "<table border=\"1\" class=\"dataframe\">\n",
              "  <thead>\n",
              "    <tr style=\"text-align: right;\">\n",
              "      <th></th>\n",
              "      <th>Features</th>\n",
              "      <th>Linear_Model_Weight</th>\n",
              "      <th>Ridge_Weight</th>\n",
              "      <th>Lasso Weights</th>\n",
              "      <th>elastic weights</th>\n",
              "    </tr>\n",
              "  </thead>\n",
              "  <tbody>\n",
              "    <tr>\n",
              "      <th>0</th>\n",
              "      <td>Surface_Area</td>\n",
              "      <td>-1.107838e+13</td>\n",
              "      <td>-0.065180</td>\n",
              "      <td>0.000000</td>\n",
              "      <td>-0.000000</td>\n",
              "    </tr>\n",
              "    <tr>\n",
              "      <th>1</th>\n",
              "      <td>interaction</td>\n",
              "      <td>-4.111328e+00</td>\n",
              "      <td>-0.103096</td>\n",
              "      <td>-0.000000</td>\n",
              "      <td>-0.532100</td>\n",
              "    </tr>\n",
              "    <tr>\n",
              "      <th>2</th>\n",
              "      <td>Orientation</td>\n",
              "      <td>5.729675e-03</td>\n",
              "      <td>0.003424</td>\n",
              "      <td>0.000000</td>\n",
              "      <td>0.003244</td>\n",
              "    </tr>\n",
              "    <tr>\n",
              "      <th>3</th>\n",
              "      <td>Glazing_Area_Distribution</td>\n",
              "      <td>2.815199e-02</td>\n",
              "      <td>0.029159</td>\n",
              "      <td>0.021431</td>\n",
              "      <td>0.028070</td>\n",
              "    </tr>\n",
              "    <tr>\n",
              "      <th>4</th>\n",
              "      <td>Glazing_Area</td>\n",
              "      <td>2.146797e-01</td>\n",
              "      <td>0.212566</td>\n",
              "      <td>0.206132</td>\n",
              "      <td>0.214270</td>\n",
              "    </tr>\n",
              "    <tr>\n",
              "      <th>5</th>\n",
              "      <td>Overall_Height</td>\n",
              "      <td>2.895508e+00</td>\n",
              "      <td>0.490154</td>\n",
              "      <td>0.463480</td>\n",
              "      <td>0.726931</td>\n",
              "    </tr>\n",
              "    <tr>\n",
              "      <th>6</th>\n",
              "      <td>Relative_Compactness</td>\n",
              "      <td>3.694237e+00</td>\n",
              "      <td>-0.235348</td>\n",
              "      <td>-0.027715</td>\n",
              "      <td>-0.000000</td>\n",
              "    </tr>\n",
              "    <tr>\n",
              "      <th>7</th>\n",
              "      <td>Wall_Area</td>\n",
              "      <td>6.462391e+12</td>\n",
              "      <td>0.107246</td>\n",
              "      <td>0.200089</td>\n",
              "      <td>0.100439</td>\n",
              "    </tr>\n",
              "    <tr>\n",
              "      <th>8</th>\n",
              "      <td>Roof_Area</td>\n",
              "      <td>8.308788e+12</td>\n",
              "      <td>-0.170320</td>\n",
              "      <td>-0.000000</td>\n",
              "      <td>-0.187816</td>\n",
              "    </tr>\n",
              "  </tbody>\n",
              "</table>\n",
              "</div>"
            ],
            "text/plain": [
              "                    Features  ...  elastic weights\n",
              "0               Surface_Area  ...        -0.000000\n",
              "1                interaction  ...        -0.532100\n",
              "2                Orientation  ...         0.003244\n",
              "3  Glazing_Area_Distribution  ...         0.028070\n",
              "4               Glazing_Area  ...         0.214270\n",
              "5             Overall_Height  ...         0.726931\n",
              "6       Relative_Compactness  ...        -0.000000\n",
              "7                  Wall_Area  ...         0.100439\n",
              "8                  Roof_Area  ...        -0.187816\n",
              "\n",
              "[9 rows x 5 columns]"
            ]
          },
          "metadata": {
            "tags": []
          },
          "execution_count": 36
        }
      ]
    },
    {
      "cell_type": "markdown",
      "metadata": {
        "id": "-aHseVee9dEZ",
        "colab_type": "text"
      },
      "source": [
        "Reading Recommendations\n",
        "Linear Regression Models in Python | Towards Data Science https://towardsdatascience.com/linear-regression-models-4a3d14b8d368 Introduction to Linear Regression Part 4: Sci-kit Learn, the Bias-Variance Trade Off, and Regularization | by Kyle Caron | Medium https://medium.com/@kylecaron/introduction-to-linear-regression-part-4-sci-kit-learn-the-bias-variance-trade-off-and-3520a0343764\n",
        "\n",
        "Statistics - (Shrinkage|Regularization) of Regression Coefficients https://datacadamia.com/data_mining/shrinkage?s[]=l1&s[]=regularization\n",
        "\n",
        "Statistics - Ridge regression https://datacadamia.com/data_mining/ridge_regression"
      ]
    },
    {
      "cell_type": "markdown",
      "metadata": {
        "id": "F8M_94Sc-Kp5",
        "colab_type": "text"
      },
      "source": [
        "**lesson 5- Non-Linear Regression Methods and Other Recommendations**\n",
        "Model Tuning and choosing parameters\n",
        "Machine learning models are parameterized such that there has to be a search for the combination of parameters that will result in the optimal performance of the model. The parameters that define the model architecture are referred to as hyperparameters while the process of exploring a range of values is called hyperparameter tuning. It is important to note the distinction between model parameters and hyperparameters. Unlike hyperparameters, model parameters are learnt during the training phase while setting hyperparameters is exclusive of the training process. Ideally, when hyperparameter tuning is completed, the result is the best parameters for the model. Grid search and random search are two common strategies for tuning hyperparameters.\n",
        "\n",
        "**Grid Search**\n",
        "Grid search explores the combination of a grid of parameters such that for every combination of parameters, a model is built and evaluated then the model with the best result selected and its corresponding parameters. While it is computationally expensive, setting up a grid search is quite easy.\n",
        "\n",
        "**Reading Recommendations**\n",
        "https://stats.stackexchange.com/questions/153131/gridsearchcv-regression-vs-linear-regression-vs-stats-model-ols\n",
        "\n",
        "Grid Search for model tuning. A model hyperparameter is a… | by Rohan Joseph | Towards Data Science https://towardsdatascience.com/grid-search-for-model-tuning-3319b259367e\n",
        "\n",
        "**Random Search**\n",
        "As opposed to grid search, random search randomly combines parameter values in the grid to build and evaluate models. It does not sequentially combine all parameters as in grid search instead, it allows for a quick exploration of the entire action space to reach optimal values.\n",
        "\n",
        "Reading Recommendations¶\n",
        "https://scikit-learn.org/stable/modules/generated/sklearn.model_selection.RandomizedSearchCV.html\n",
        "\n",
        "**Hyperparameter Tuning in Python | Towards Data Science** https://towardsdatascience.com/hyperparameter-tuning-c5619e7e6624\n",
        "\n",
        "https://blog.usejournal.com/a-comparison-of-grid-search-and-randomized-search-using-scikit-learn-29823179bc85\n",
        "\n",
        "Normally this is done to find the best learinng rate ($\\alpha$) before running the linear regression, grid search is more accurate than random and the learning rate give was what was used in the earlier note example"
      ]
    },
    {
      "cell_type": "markdown",
      "metadata": {
        "id": "yh7gbIDTBbfJ",
        "colab_type": "text"
      },
      "source": [
        "**Data splitting, resampling and cross validation strategy¶**\n",
        "Data splitting in data science involves setting aside a portion of the dataset for testing (out of sample or hold-out) and evaluating the performance of the model to provide unbiased results while the rest is used in fitting the model. The proportion of division is solely based on choice and sometimes, the size of the dataset. However a common practice is to split the dataset into training, validation or dev and testing sets where the validation set is used to tune the hyperparameters to select the best values for the model. Resampling involves repeatedly selecting samples from the original dataset and using these samples to obtain more information about the model. This can create different samples of the training set and another for evaluation. Cross validation is a method used to generalise and prevent overfitting in machine learning\n",
        "\n",
        "we have looked at several CV strategies in lesson 4 and 5\n",
        "\n",
        "Data Splitting and Resampling | Introduction to Data Science https://scientistcafe.com/ids/data-splitting-and-resampling.html"
      ]
    },
    {
      "cell_type": "code",
      "metadata": {
        "id": "tM-acBwWZHEd",
        "colab_type": "code",
        "colab": {
          "base_uri": "https://localhost:8080/",
          "height": 119
        },
        "outputId": "952c5533-88dd-47a3-87d8-baabe466917a"
      },
      "source": [
        "from sklearn.model_selection import GridSearchCV\n",
        "from sklearn.linear_model import ElasticNet\n",
        "# find optimal alpha with grid search\n",
        "alpha = [0.0001, 0.00015, 0.00016, 0.0002, 0.001, 0.003] #I selected a range of values to form a grid to search\n",
        "# i did not want to be adventurerous because I already know the answer from the previous lesson\n",
        "l1_ratio = [0, 0.1, 0.2, 0.3, 0.4, 0.5, 0.6, 0.7, 0.8, 0.9, 1]\n",
        "param_grid = dict(alpha = alpha, l1_ratio = l1_ratio)\n",
        "grid = GridSearchCV(estimator=ElasticNet(max_iter=100000), param_grid = param_grid, scoring ='r2', verbose = 1, n_jobs = -1)\n",
        "grid_result = grid.fit(x_train, y_train)\n",
        "print('Best Score:', grid_result.best_score_)\n",
        "print('Best Param:', grid_result.best_score_)\n",
        "# I use ElasticNet as my estimator since it has been determined as the most efficient, gettings alpha for the others can be done using this procedure or randomly\n",
        "# they probably already did this in the note, if you want to try for other estimators research the parameters because it will change e.g L1_ratio is specific to elastic net \n",
        "# Fitting 5 folds for each of 66 candidates, totalling 330 fits"
      ],
      "execution_count": 40,
      "outputs": [
        {
          "output_type": "stream",
          "text": [
            "Fitting 5 folds for each of 66 candidates, totalling 330 fits\n"
          ],
          "name": "stdout"
        },
        {
          "output_type": "stream",
          "text": [
            "[Parallel(n_jobs=-1)]: Using backend LokyBackend with 2 concurrent workers.\n",
            "[Parallel(n_jobs=-1)]: Done 285 tasks      | elapsed:   10.7s\n"
          ],
          "name": "stderr"
        },
        {
          "output_type": "stream",
          "text": [
            "Best Score: 0.9238538490226578\n",
            "Best Param: 0.9238538490226578\n"
          ],
          "name": "stdout"
        },
        {
          "output_type": "stream",
          "text": [
            "[Parallel(n_jobs=-1)]: Done 330 out of 330 | elapsed:   12.1s finished\n"
          ],
          "name": "stderr"
        }
      ]
    },
    {
      "cell_type": "code",
      "metadata": {
        "id": "3scdeVl861Se",
        "colab_type": "code",
        "colab": {}
      },
      "source": [
        "from sklearn.model_selection import RandomizedSearchCV\n",
        "\n",
        "\n"
      ],
      "execution_count": null,
      "outputs": []
    },
    {
      "cell_type": "code",
      "metadata": {
        "colab_type": "code",
        "id": "ocv2NWqz7ImL",
        "colab": {
          "base_uri": "https://localhost:8080/",
          "height": 119
        },
        "outputId": "952c5533-88dd-47a3-87d8-baabe466917a"
      },
      "source": [
        "from sklearn.model_selection import GridSearchCV\n",
        "from sklearn.linear_model import ElasticNet\n",
        "# find optimal alpha with grid search\n",
        "alpha = [0.0001, 0.00015, 0.00016, 0.0002, 0.001, 0.003] #I selected a range of values to form a grid to search\n",
        "# i did not want to be adventurerous because I already know the answer from the previous lesson\n",
        "l1_ratio = [0, 0.1, 0.2, 0.3, 0.4, 0.5, 0.6, 0.7, 0.8, 0.9, 1]\n",
        "param_grid = dict(alpha = alpha, l1_ratio = l1_ratio)\n",
        "grid = GridSearchCV(estimator=ElasticNet(max_iter=100000), param_grid = param_grid, scoring ='r2', verbose = 1, n_jobs = -1)\n",
        "grid_result = grid.fit(x_train, y_train)\n",
        "print('Best Score:', grid_result.best_score_)\n",
        "print('Best Param:', grid_result.best_score_)\n",
        "# I use ElasticNet as my estimator since it has been determined as the most efficient, gettings alpha for the others can be done using this procedure or randomly\n",
        "# they probably already did this in the note, if you want to try for other estimators research the parameters because it will change e.g L1_ratio is specific to elastic net \n",
        "# Fitting 5 folds for each of 66 candidates, totalling 330 fits"
      ],
      "execution_count": null,
      "outputs": [
        {
          "output_type": "stream",
          "text": [
            "Fitting 5 folds for each of 66 candidates, totalling 330 fits\n"
          ],
          "name": "stdout"
        },
        {
          "output_type": "stream",
          "text": [
            "[Parallel(n_jobs=-1)]: Using backend LokyBackend with 2 concurrent workers.\n",
            "[Parallel(n_jobs=-1)]: Done 285 tasks      | elapsed:   10.7s\n"
          ],
          "name": "stderr"
        },
        {
          "output_type": "stream",
          "text": [
            "Best Score: 0.9238538490226578\n",
            "Best Param: 0.9238538490226578\n"
          ],
          "name": "stdout"
        },
        {
          "output_type": "stream",
          "text": [
            "[Parallel(n_jobs=-1)]: Done 330 out of 330 | elapsed:   12.1s finished\n"
          ],
          "name": "stderr"
        }
      ]
    },
    {
      "cell_type": "code",
      "metadata": {
        "id": "7fzq_tqN57zz",
        "colab_type": "code",
        "colab": {
          "base_uri": "https://localhost:8080/",
          "height": 241
        },
        "outputId": "5cba1d58-9670-4dd5-e2a3-0f35c42ad7a0"
      },
      "source": [
        "from sklearn.model_selection import RandomizedSearchCV\n",
        "l1_ratio = [0, 0.1, 0.2, 0.3, 0.4, 0.5, 0.6, 0.7, 0.8, 0.9, 1]\n",
        "alpha = [0.0001, 0.003, 0.00015, 0.00016, 0.0002, 0.001, 0.003]\n",
        "max_iter = 10000\n",
        "param_distribution = dict(l1_ratio = l1_ratio, alpha = alpha)\n",
        "utility = RandomizedSearchCV(estimator =ElasticNet(max_iter=100000), param_distributions=param_grid, random_state=0)\n",
        "result = utility.fit(x_train, y_train)\n",
        "print('Best Score: ', result.best_score_)\n",
        "print('Best Params: ', result.best_params_)"
      ],
      "execution_count": 43,
      "outputs": [
        {
          "output_type": "stream",
          "text": [
            "/usr/local/lib/python3.6/dist-packages/sklearn/linear_model/_coordinate_descent.py:476: ConvergenceWarning: Objective did not converge. You might want to increase the number of iterations. Duality gap: 1.4166821838593764, tolerance: 0.0031462708831570254\n",
            "  positive)\n",
            "/usr/local/lib/python3.6/dist-packages/sklearn/linear_model/_coordinate_descent.py:476: ConvergenceWarning: Objective did not converge. You might want to increase the number of iterations. Duality gap: 1.3992942855583785, tolerance: 0.0032101700982193095\n",
            "  positive)\n",
            "/usr/local/lib/python3.6/dist-packages/sklearn/linear_model/_coordinate_descent.py:476: ConvergenceWarning: Objective did not converge. You might want to increase the number of iterations. Duality gap: 1.4515012442171846, tolerance: 0.0031758795041326245\n",
            "  positive)\n",
            "/usr/local/lib/python3.6/dist-packages/sklearn/linear_model/_coordinate_descent.py:476: ConvergenceWarning: Objective did not converge. You might want to increase the number of iterations. Duality gap: 1.330395335821588, tolerance: 0.0030528495753739324\n",
            "  positive)\n"
          ],
          "name": "stderr"
        },
        {
          "output_type": "stream",
          "text": [
            "Best Score:  0.923805791421899\n",
            "Best Params:  {'l1_ratio': 0.4, 'alpha': 0.0001}\n"
          ],
          "name": "stdout"
        },
        {
          "output_type": "stream",
          "text": [
            "/usr/local/lib/python3.6/dist-packages/sklearn/linear_model/_coordinate_descent.py:476: ConvergenceWarning: Objective did not converge. You might want to increase the number of iterations. Duality gap: 1.436029707909327, tolerance: 0.0031919373341281008\n",
            "  positive)\n"
          ],
          "name": "stderr"
        }
      ]
    },
    {
      "cell_type": "markdown",
      "metadata": {
        "id": "GrcPYf6n-b4z",
        "colab_type": "text"
      },
      "source": [
        "i would recommend increasing the iterations in google colab it will still be slow because the free cloud disk spacae is small but it wont stress your laptop and doesnt take much internet data since the actual computing is done on google servers, so you are just sending instructions and receiving data.\n",
        "\n",
        "**Conclusion**\n",
        "\n",
        "If you made it this far, Thank you very much feedback will be appreciated.\n",
        "\n",
        "I want to know if,\n",
        "the analysis method i useds were adequate?\n",
        "you have a better analysis option?\n",
        "the observations were accurate?\n",
        "you have more observations?\n",
        "you agree with my insights and suggestions?\n",
        "you don't agree? Please tell me why.\n",
        "\n",
        "**Take an sklearn crash course**\n",
        "\n",
        "Scikit-Learn Course - Machine Learning in Python Tutorial\n",
        "\n",
        "https://www.youtube.com/watch?v=pqNCD_"
      ]
    }
  ]
}