{
  "nbformat": 4,
  "nbformat_minor": 0,
  "metadata": {
    "colab": {
      "name": "Keras and Tensorflow with Python.ipynb",
      "provenance": [],
      "collapsed_sections": [],
      "authorship_tag": "ABX9TyOHMdQ9dpHBKN02anRgZ8xH",
      "include_colab_link": true
    },
    "kernelspec": {
      "name": "python3",
      "display_name": "Python 3"
    }
  },
  "cells": [
    {
      "cell_type": "markdown",
      "metadata": {
        "id": "view-in-github",
        "colab_type": "text"
      },
      "source": [
        "<a href=\"https://colab.research.google.com/github/ola-sumbo/Hamoye-and-ML-with-Ude/blob/master/Keras_and_Tensorflow_with_Python.ipynb\" target=\"_parent\"><img src=\"https://colab.research.google.com/assets/colab-badge.svg\" alt=\"Open In Colab\"/></a>"
      ]
    },
    {
      "cell_type": "code",
      "metadata": {
        "id": "eEFc_-h97MWb",
        "colab_type": "code",
        "colab": {
          "base_uri": "https://localhost:8080/",
          "height": 34
        },
        "outputId": "163cb0d5-1157-449d-a3a0-d229ff46f925"
      },
      "source": [
        "# Import necessary packages in R it is called libraries\n",
        "import numpy as np\n",
        "import matplotlib.pyplot as plt\n",
        "import tensorflow as tf\n",
        "from tensorflow import keras\n",
        "\n",
        "#Get ur data from available dataset in the system\n",
        "mnist = keras.datasets.mnist\n",
        "(train_images, train_labels), (test_images, test_labels) = mnist.load_data()\n",
        "print(\"Training data : {}, {}\".format(train_images.shape, train_labels.shape))"
      ],
      "execution_count": 19,
      "outputs": [
        {
          "output_type": "stream",
          "text": [
            "Training data : (60000, 28, 28), (60000,)\n"
          ],
          "name": "stdout"
        }
      ]
    },
    {
      "cell_type": "code",
      "metadata": {
        "id": "emX9KDZZ-R5t",
        "colab_type": "code",
        "colab": {
          "base_uri": "https://localhost:8080/",
          "height": 52
        },
        "outputId": "cb74fd53-9643-4870-c4a2-e0363066c48c"
      },
      "source": [
        "print(\"Test data : {},{}\".format(test_images.shape, test_labels.shape))\n",
        "class_labels = np.unique(train_labels)\n",
        "print(\"There are {} classes in the dataset. They are: {}\".format(len(class_labels),(class_labels)))"
      ],
      "execution_count": 20,
      "outputs": [
        {
          "output_type": "stream",
          "text": [
            "Test data : (10000, 28, 28),(10000,)\n",
            "There are 10 classes in the dataset. They are: [0 1 2 3 4 5 6 7 8 9]\n"
          ],
          "name": "stdout"
        }
      ]
    },
    {
      "cell_type": "code",
      "metadata": {
        "id": "AYs6PwzgMkhl",
        "colab_type": "code",
        "colab": {
          "base_uri": "https://localhost:8080/",
          "height": 194
        },
        "outputId": "c66a0be4-82ee-43c9-8553-9f7304c214be"
      },
      "source": [
        "plt.figure(figsize=(8,5))\n",
        "\n",
        "plt.subplot(1,3,1)\n",
        "plt.imshow(train_images[0])\n",
        "plt.title(\"Label:{}\".format(train_labels[0]))\n",
        "\n",
        "plt.subplot(1,3,2)\n",
        "plt.imshow(train_images[2500])\n",
        "plt.title(\"Label:{}\".format(train_labels[2500]))\n",
        "\n",
        "plt.subplot(1,3,3)\n",
        "plt.imshow(test_images[12]) # plot image show\n",
        "\n",
        "plt.show( )"
      ],
      "execution_count": 21,
      "outputs": [
        {
          "output_type": "display_data",
          "data": {
            "image/png": "[encoded data removed]",
            "text/plain": [
              "<Figure size 576x360 with 3 Axes>"
            ]
          },
          "metadata": {
            "tags": [],
            "needs_background": "light"
          }
        }
      ]
    },
    {
      "cell_type": "markdown",
      "metadata": {
        "id": "wKVSLQHkOukY",
        "colab_type": "text"
      },
      "source": [
        "**We scale our dataset to range between 0 and 1. In this dataset, the pixel values range from 0 to 255. Dividing the data by 255 scales to the required range **"
      ]
    },
    {
      "cell_type": "code",
      "metadata": {
        "id": "QHQEG6MXPRQI",
        "colab_type": "code",
        "colab": {}
      },
      "source": [
        "train_images = train_images / 255.0 \n",
        "test_images = test_images / 255.0"
      ],
      "execution_count": 22,
      "outputs": []
    },
    {
      "cell_type": "code",
      "metadata": {
        "id": "IdQZYd51QRjE",
        "colab_type": "code",
        "colab": {}
      },
      "source": [
        "# Splitting training data to training and validation \n",
        "x_train = train_images[0:50000]\n",
        "x_val = train_images[50000:]\n",
        "y_train = train_labels[0:50000]\n",
        "y_val = train_labels[50000:]"
      ],
      "execution_count": 23,
      "outputs": []
    },
    {
      "cell_type": "code",
      "metadata": {
        "id": "ocovtFxBeAzR",
        "colab_type": "code",
        "colab": {
          "base_uri": "https://localhost:8080/",
          "height": 87
        },
        "outputId": "84409b69-ee63-4097-96f8-ab077ef328c8"
      },
      "source": [
        "print(\"x_train: {}\".format(x_train.shape))\n",
        "print(\"x_val: {}\".format(x_val.shape))\n",
        "print(\"y_train: {}\".format(y_train.shape))\n",
        "print(\"y_value: {}\".format(y_val.shape))"
      ],
      "execution_count": 24,
      "outputs": [
        {
          "output_type": "stream",
          "text": [
            "x_train: (50000, 28, 28)\n",
            "x_val: (10000, 28, 28)\n",
            "y_train: (50000,)\n",
            "y_value: (10000,)\n"
          ],
          "name": "stdout"
        }
      ]
    },
    {
      "cell_type": "code",
      "metadata": {
        "id": "ibcc_QC0s6ns",
        "colab_type": "code",
        "colab": {}
      },
      "source": [
        "# Encode Labels to categorical variables \n",
        "from tensorflow.keras.utils import to_categorical\n",
        "no_labels = 10\n",
        "y_train = to_categorical(y_train, no_labels)\n",
        "y_val = to_categorical(y_val, no_labels)\n",
        "y_test = to_categorical(test_labels, no_labels)"
      ],
      "execution_count": 25,
      "outputs": []
    },
    {
      "cell_type": "code",
      "metadata": {
        "id": "rrno4wHlgj-K",
        "colab_type": "code",
        "colab": {
          "base_uri": "https://localhost:8080/",
          "height": 176
        },
        "outputId": "33cd930f-a960-4db7-9773-02d1c9430525"
      },
      "source": [
        "# Reshape data from 28 * 28 array to a single array\n",
        "new_dimension = np.prod(train_images.shape[1:]) #np.prod multiplies the prod of the arrays\n",
        "x_train = x_train.reshape(x_train.shape[0], new_dimension) \n",
        "x_val = x_val.reshape(x_val.shape[0], new_dimension)\n",
        "test_images = test_images.reshape(test_images.shape[0], new_dimension)\n",
        "\n",
        "print(\"x_train: {}\".format(x_train.shape))\n",
        "print(\"x_val: {}\".format(x_val.shape))\n",
        "print(\"test_images: {}\".format(test_images))"
      ],
      "execution_count": 26,
      "outputs": [
        {
          "output_type": "stream",
          "text": [
            "x_train: (50000, 784)\n",
            "x_val: (10000, 784)\n",
            "test_images: [[0. 0. 0. ... 0. 0. 0.]\n",
            " [0. 0. 0. ... 0. 0. 0.]\n",
            " [0. 0. 0. ... 0. 0. 0.]\n",
            " ...\n",
            " [0. 0. 0. ... 0. 0. 0.]\n",
            " [0. 0. 0. ... 0. 0. 0.]\n",
            " [0. 0. 0. ... 0. 0. 0.]]\n"
          ],
          "name": "stdout"
        }
      ]
    },
    {
      "cell_type": "markdown",
      "metadata": {
        "id": "zHi0Bpv1zODb",
        "colab_type": "text"
      },
      "source": [
        "**Activation functions and Neural Network parameter**"
      ]
    },
    {
      "cell_type": "code",
      "metadata": {
        "id": "hPcOql5zznub",
        "colab_type": "code",
        "colab": {}
      },
      "source": [
        "#inputs \n",
        "# placeholders are not enabled in tf2\n",
        "import tensorflow.compat.v1 as tf\n",
        "tf.disable_v2_behavior()\n",
        "X = tf.placeholder (tf.float32, [None, new_dimension])\n",
        "Y = tf.placeholder (tf.float32, [None, no_labels])"
      ],
      "execution_count": 27,
      "outputs": []
    },
    {
      "cell_type": "code",
      "metadata": {
        "id": "cmTnrUp4-yOf",
        "colab_type": "code",
        "colab": {}
      },
      "source": [
        "# Create your model architecture \n",
        "def multilayer_perceptron(x, no_classes, first_layer_neurons=256, second_layer_neurons=128):\n",
        "  # first layer\n",
        "  first_weight = tf.Variable(tf.random_uniform([new_dimension, first_layer_neurons]))\n",
        "  first_bias = tf.Variable(tf.zeros([first_layer_neurons]))\n",
        "  first_layer_output = tf.nn.relu(tf.add(tf.matmul(x, first_weight), first_bias))\n",
        "\n",
        "  # second layer \n",
        "  second_weight = tf.Variable(tf.random_uniform([first_layer_neurons, second_layer_neurons]))\n",
        "  second_bias = tf.Variable(tf.zeros([second_layer_neurons]))\n",
        "  second_layer_output = tf.nn.relu(tf.add(tf.matmul(first_layer_output, second_weight), second_bias))\n",
        "\n",
        "  #output layer \n",
        "  final_weight = tf.Variable(tf.random_uniform([second_layer_neurons, no_classes]))\n",
        "  final_bias = tf.Variable(tf.zeros([no_classes]))\n",
        "  logits = tf.add(tf.matmul(second_layer_output, final_weight), final_bias)\n",
        "\n",
        "  return logits\n",
        "\n",
        "logits = multilayer_perceptron(X, no_labels)"
      ],
      "execution_count": 28,
      "outputs": []
    },
    {
      "cell_type": "code",
      "metadata": {
        "id": "ga-JBa_iezRu",
        "colab_type": "code",
        "colab": {
          "base_uri": "https://localhost:8080/",
          "height": 390
        },
        "outputId": "82689765-f1bb-4c4d-a423-1489f275f98f"
      },
      "source": [
        "learning_rate = 0.01\n",
        "# we define the loss and optimiser for the network \n",
        "loss_op = tf.reduce_mean(tf.nn.softmax_cross_entropy_with_logits(logits=logits, labels =Y))\n",
        "optimiser = tf.train.AdamOptimizer(learning_rate=learning_rate)\n",
        "train_op = optimiser.minimize(loss_op)\n",
        "\n",
        "#initialise the variables\n",
        "init = tf.global_variables_initializer()\n",
        "epochs = 20\n",
        "batch_size = 1000\n",
        "iteration = len(x_train)// batch_size\n",
        "\n",
        "#train model\n",
        "with tf.Session() as session:\n",
        "  session.run(init)\n",
        "  for epoch in range(epochs):\n",
        "    average_cost = 0\n",
        "    start, end = 0, batch_size\n",
        "\n",
        "    for i in range(iteration):\n",
        "      batch_x, batch_y = x_train[start: end], y_train[start: end]\n",
        "      _, loss = session.run([train_op, loss_op], feed_dict={X: batch_x, Y: batch_y})\n",
        "      start+= batch_size\n",
        "      end+= batch_size\n",
        "      # average loss\n",
        "      average_cost+= loss/iteration\n",
        "    print(\"Epoch======={}\".format(epoch))\n",
        "\n",
        "    # Evaluate the model\n",
        "    prediction = tf.nn.softmax(logits)\n",
        "    ground_truth = tf.equal(tf.argmax(prediction,1), tf.argmax(Y, 1))\n",
        "    accuracy = tf.reduce_mean(tf.cast(ground_truth, \"float\"))\n",
        "  print(\"Accuracy: {}\".format(accuracy.eval({X: test_images, Y: y_test})))\n"
      ],
      "execution_count": 29,
      "outputs": [
        {
          "output_type": "stream",
          "text": [
            "Epoch=======0\n",
            "Epoch=======1\n",
            "Epoch=======2\n",
            "Epoch=======3\n",
            "Epoch=======4\n",
            "Epoch=======5\n",
            "Epoch=======6\n",
            "Epoch=======7\n",
            "Epoch=======8\n",
            "Epoch=======9\n",
            "Epoch=======10\n",
            "Epoch=======11\n",
            "Epoch=======12\n",
            "Epoch=======13\n",
            "Epoch=======14\n",
            "Epoch=======15\n",
            "Epoch=======16\n",
            "Epoch=======17\n",
            "Epoch=======18\n",
            "Epoch=======19\n",
            "Accuracy: 0.9111999869346619\n"
          ],
          "name": "stdout"
        }
      ]
    },
    {
      "cell_type": "markdown",
      "metadata": {
        "id": "gV0kB8wXkJnH",
        "colab_type": "text"
      },
      "source": [
        "**Optimization for training deep neural networks**"
      ]
    },
    {
      "cell_type": "code",
      "metadata": {
        "id": "aMF4z73fkS7n",
        "colab_type": "code",
        "colab": {}
      },
      "source": [
        "# Building sequential feed forward network in Keras\n",
        "\n",
        "from tensorflow.keras.layers import Dense\n",
        "from tensorflow.keras.models import Sequential\n",
        "\n",
        "# Building model object\n",
        "model = Sequential()\n",
        "# Build the input and the hidden layers \n",
        "model.add(Dense(256, activation ='relu', input_shape = (new_dimension,)))\n",
        "model.add(Dense(128, activation ='relu'))\n",
        "# Build the output layer\n",
        "model.add(Dense(no_labels, activation ='softmax'))"
      ],
      "execution_count": 30,
      "outputs": []
    },
    {
      "cell_type": "code",
      "metadata": {
        "id": "7Wmzck2FnBZZ",
        "colab_type": "code",
        "colab": {}
      },
      "source": [
        "model.compile(optimizer='adam', loss=tf.keras.losses.categorical_crossentropy, metrics =['accuracy'])\n",
        "\n",
        "# Having compiled our model, we will start the training process. We specify the nos of times to iterate on the whole training set ie epochs and \n",
        "# how many samples we use for one update to the model's weights ie batch size"
      ],
      "execution_count": 31,
      "outputs": []
    },
    {
      "cell_type": "code",
      "metadata": {
        "id": "WZlxU6vPoCWZ",
        "colab_type": "code",
        "colab": {
          "base_uri": "https://localhost:8080/",
          "height": 781
        },
        "outputId": "248ef379-ca5d-48e1-c1aa-57adc2694028"
      },
      "source": [
        "history = model.fit(x_train, y_train, validation_data=(x_val, y_val), epochs=20, batch_size=1000)\n",
        "test_loss, test_accuracy = model.evaluate(test_images, y_test)\n",
        "print ('Test loss: {}'.format(test_loss))\n",
        "print('Test_accuracy: {}'.format(test_accuracy))"
      ],
      "execution_count": 32,
      "outputs": [
        {
          "output_type": "stream",
          "text": [
            "Train on 50000 samples, validate on 10000 samples\n",
            "Epoch 1/20\n",
            "50000/50000 [==============================] - 1s 30us/sample - loss: 0.7023 - acc: 0.8106 - val_loss: 0.2559 - val_acc: 0.9270\n",
            "Epoch 2/20\n",
            "50000/50000 [==============================] - 1s 29us/sample - loss: 0.2305 - acc: 0.9332 - val_loss: 0.1806 - val_acc: 0.9493\n",
            "Epoch 3/20\n",
            "50000/50000 [==============================] - 1s 29us/sample - loss: 0.1672 - acc: 0.9518 - val_loss: 0.1449 - val_acc: 0.9599\n",
            "Epoch 4/20\n",
            "50000/50000 [==============================] - 1s 29us/sample - loss: 0.1318 - acc: 0.9624 - val_loss: 0.1240 - val_acc: 0.9653\n",
            "Epoch 5/20\n",
            "50000/50000 [==============================] - 1s 30us/sample - loss: 0.1076 - acc: 0.9689 - val_loss: 0.1145 - val_acc: 0.9673\n",
            "Epoch 6/20\n",
            "50000/50000 [==============================] - 1s 29us/sample - loss: 0.0898 - acc: 0.9744 - val_loss: 0.1022 - val_acc: 0.9699\n",
            "Epoch 7/20\n",
            "50000/50000 [==============================] - 1s 29us/sample - loss: 0.0744 - acc: 0.9790 - val_loss: 0.0950 - val_acc: 0.9719\n",
            "Epoch 8/20\n",
            "50000/50000 [==============================] - 1s 29us/sample - loss: 0.0633 - acc: 0.9824 - val_loss: 0.0914 - val_acc: 0.9736\n",
            "Epoch 9/20\n",
            "50000/50000 [==============================] - 1s 29us/sample - loss: 0.0559 - acc: 0.9845 - val_loss: 0.0875 - val_acc: 0.9746\n",
            "Epoch 10/20\n",
            "50000/50000 [==============================] - 1s 29us/sample - loss: 0.0476 - acc: 0.9871 - val_loss: 0.0808 - val_acc: 0.9756\n",
            "Epoch 11/20\n",
            "50000/50000 [==============================] - 2s 33us/sample - loss: 0.0410 - acc: 0.9888 - val_loss: 0.0813 - val_acc: 0.9750\n",
            "Epoch 12/20\n",
            "50000/50000 [==============================] - 2s 35us/sample - loss: 0.0346 - acc: 0.9910 - val_loss: 0.0776 - val_acc: 0.9768\n",
            "Epoch 13/20\n",
            "50000/50000 [==============================] - 2s 33us/sample - loss: 0.0308 - acc: 0.9921 - val_loss: 0.0792 - val_acc: 0.9767\n",
            "Epoch 14/20\n",
            "50000/50000 [==============================] - 2s 34us/sample - loss: 0.0262 - acc: 0.9936 - val_loss: 0.0772 - val_acc: 0.9759\n",
            "Epoch 15/20\n",
            "50000/50000 [==============================] - 2s 34us/sample - loss: 0.0223 - acc: 0.9947 - val_loss: 0.0788 - val_acc: 0.9754\n",
            "Epoch 16/20\n",
            "50000/50000 [==============================] - 1s 28us/sample - loss: 0.0196 - acc: 0.9961 - val_loss: 0.0739 - val_acc: 0.9774\n",
            "Epoch 17/20\n",
            "50000/50000 [==============================] - 1s 28us/sample - loss: 0.0166 - acc: 0.9969 - val_loss: 0.0736 - val_acc: 0.9784\n",
            "Epoch 18/20\n",
            "50000/50000 [==============================] - 1s 28us/sample - loss: 0.0147 - acc: 0.9973 - val_loss: 0.0740 - val_acc: 0.9778\n",
            "Epoch 19/20\n",
            "50000/50000 [==============================] - 1s 28us/sample - loss: 0.0128 - acc: 0.9977 - val_loss: 0.0765 - val_acc: 0.9786\n",
            "Epoch 20/20\n",
            "50000/50000 [==============================] - 1s 28us/sample - loss: 0.0115 - acc: 0.9979 - val_loss: 0.0747 - val_acc: 0.9790\n",
            "Test loss: 0.07163549048547865\n",
            "Test_accuracy: 0.9790999889373779\n"
          ],
          "name": "stdout"
        }
      ]
    },
    {
      "cell_type": "code",
      "metadata": {
        "id": "6nhfG8N_o--v",
        "colab_type": "code",
        "colab": {
          "base_uri": "https://localhost:8080/",
          "height": 312
        },
        "outputId": "322032c4-f691-421d-92a8-1d9832abdbb6"
      },
      "source": [
        "# Checking for overfitting graphically\n",
        "plt.figure()\n",
        "plt.plot(history.history['loss'], 'red')\n",
        "plt.plot(history.history['val_loss'], 'purple')\n",
        "plt.legend(['Training loss', 'Validation Loss']) #signified above as loss and val_loss\n",
        "plt.xlabel('Epochs')\n",
        "plt.ylabel('Loss')\n",
        "plt.title('Loss Curves - before regularisation')\n"
      ],
      "execution_count": 33,
      "outputs": [
        {
          "output_type": "execute_result",
          "data": {
            "text/plain": [
              "Text(0.5, 1.0, 'Loss Curves - before regularisation')"
            ]
          },
          "metadata": {
            "tags": []
          },
          "execution_count": 33
        },
        {
          "output_type": "display_data",
          "data": {
            "image/png": "[encoded data removed]",
            "text/plain": [
              "<Figure size 432x288 with 1 Axes>"
            ]
          },
          "metadata": {
            "tags": [],
            "needs_background": "light"
          }
        }
      ]
    },
    {
      "cell_type": "markdown",
      "metadata": {
        "id": "3U3EtYs0qI_O",
        "colab_type": "text"
      },
      "source": [
        "**Making Predictions**"
      ]
    },
    {
      "cell_type": "code",
      "metadata": {
        "id": "mxYDbFPuqQLa",
        "colab_type": "code",
        "colab": {
          "base_uri": "https://localhost:8080/",
          "height": 34
        },
        "outputId": "e2fc0966-8241-4244-b68c-ffdae6574f61"
      },
      "source": [
        "# Using our model to predict\n",
        "predictions = model.predict([test_images]) # Make predictions\n",
        "print(np.argmax(predictions[1000]))"
      ],
      "execution_count": 34,
      "outputs": [
        {
          "output_type": "stream",
          "text": [
            "9\n"
          ],
          "name": "stdout"
        }
      ]
    },
    {
      "cell_type": "code",
      "metadata": {
        "id": "suLSebrYqt8j",
        "colab_type": "code",
        "colab": {
          "base_uri": "https://localhost:8080/",
          "height": 181
        },
        "outputId": "a71849dd-3a34-4359-c6b5-efdfd2be9085"
      },
      "source": [
        "# to verify the image will turn out to be as predicted ie 9\n",
        "# recall input data sent to the network was flattened for the purpose of learning to a vector with length 784. \n",
        "# To view this prediction,  we need to convert it back to the size of 28 by 28 pixels.\n",
        "plt.figure(figsize=(8,5)) \n",
        "plt.subplot(1, 3, 1)\n",
        "plt.imshow(test_images[1000].reshape(28, 28), cmap='pink') # Import the image\n",
        "plt.show()"
      ],
      "execution_count": 35,
      "outputs": [
        {
          "output_type": "display_data",
          "data": {
            "image/png": "[encoded data removed]",
            "text/plain": [
              "<Figure size 576x360 with 1 Axes>"
            ]
          },
          "metadata": {
            "tags": [],
            "needs_background": "light"
          }
        }
      ]
    },
    {
      "cell_type": "code",
      "metadata": {
        "id": "fBrSydYuk4Kt",
        "colab_type": "code",
        "colab": {
          "base_uri": "https://localhost:8080/",
          "height": 34
        },
        "outputId": "2f32b6a1-64a3-4e41-c7d1-b30fa7ac3bab"
      },
      "source": [
        "# another case of prediction by choosing test_images[6700]\n",
        "predictions = model.predict([test_images]) #make predictions\n",
        "print(np.argmax(predictions[6700])) # print out the number"
      ],
      "execution_count": 44,
      "outputs": [
        {
          "output_type": "stream",
          "text": [
            "4\n"
          ],
          "name": "stdout"
        }
      ]
    },
    {
      "cell_type": "code",
      "metadata": {
        "id": "n3sSNLaBlsF1",
        "colab_type": "code",
        "colab": {
          "base_uri": "https://localhost:8080/",
          "height": 181
        },
        "outputId": "d0a7226f-9702-4378-c262-578a971f9702"
      },
      "source": [
        "plt.figure(figsize=(8, 5))\n",
        "plt.subplot(1, 3,1)\n",
        "plt.imshow(test_images[6700].reshape(28, 28), cmap ='gray')\n",
        "plt.show() # show images "
      ],
      "execution_count": 45,
      "outputs": [
        {
          "output_type": "display_data",
          "data": {
            "image/png": "[encoded data removed]",
            "text/plain": [
              "<Figure size 576x360 with 1 Axes>"
            ]
          },
          "metadata": {
            "tags": [],
            "needs_background": "light"
          }
        }
      ]
    }
  ]
}