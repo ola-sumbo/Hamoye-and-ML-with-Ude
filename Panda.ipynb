{
  "nbformat": 4,
  "nbformat_minor": 0,
  "metadata": {
    "colab": {
      "name": "Panda.ipynb",
      "provenance": [],
      "authorship_tag": "ABX9TyOnxaN0YAdlvCG9MHFywIuq",
      "include_colab_link": true
    },
    "kernelspec": {
      "name": "python3",
      "display_name": "Python 3"
    }
  },
  "cells": [
    {
      "cell_type": "markdown",
      "metadata": {
        "id": "view-in-github",
        "colab_type": "text"
      },
      "source": [
        "<a href=\"https://colab.research.google.com/github/ola-sumbo/Hamoye-and-ML-with-Ude/blob/master/Panda.ipynb\" target=\"_parent\"><img src=\"https://colab.research.google.com/assets/colab-badge.svg\" alt=\"Open In Colab\"/></a>"
      ]
    },
    {
      "cell_type": "code",
      "metadata": {
        "id": "KWVAV-ew_MyI",
        "colab_type": "code",
        "colab": {
          "base_uri": "https://localhost:8080/",
          "height": 85
        },
        "outputId": "bf81eaa9-4b84-4883-d4b8-81ebb3450787"
      },
      "source": [
        "# importing pandas as pd\n",
        "import pandas as pd\n",
        "import numpy as np\n",
        "days = pd.Series(['Monday', 'Tuesday', 'Wednesday'])\n",
        "print(days)"
      ],
      "execution_count": 32,
      "outputs": [
        {
          "output_type": "stream",
          "text": [
            "0       Monday\n",
            "1      Tuesday\n",
            "2    Wednesday\n",
            "dtype: object\n"
          ],
          "name": "stdout"
        }
      ]
    },
    {
      "cell_type": "code",
      "metadata": {
        "id": "YjWDbpqFK4Xk",
        "colab_type": "code",
        "colab": {
          "base_uri": "https://localhost:8080/",
          "height": 85
        },
        "outputId": "4d4304b4-4de2-45fe-e673-e0cab4db125c"
      },
      "source": [
        "# creating series with a numpy array\n",
        "days_list = np.array(['Monday', 'Tuesday', 'Wednesday'])\n",
        "numpy_days = pd.Series(days_list)\n",
        "print(numpy_days)"
      ],
      "execution_count": 35,
      "outputs": [
        {
          "output_type": "stream",
          "text": [
            "0       Monday\n",
            "1      Tuesday\n",
            "2    Wednesday\n",
            "dtype: object\n"
          ],
          "name": "stdout"
        }
      ]
    },
    {
      "cell_type": "code",
      "metadata": {
        "id": "Iox6J438LYJz",
        "colab_type": "code",
        "colab": {
          "base_uri": "https://localhost:8080/",
          "height": 35
        },
        "outputId": "32b82470-160c-4b34-d8c8-f29124ef1afe"
      },
      "source": [
        "# using strings as index\n",
        "days = pd.Series(['Monday', 'Tuesday', 'Wednesday'],index=['a', 'b', 'c'])\n",
        "# create series from a dictionary\n",
        "days1 = pd.Series({'a':'Monday', 'b':'Tuesday', 'c':'Wednesday'})\n",
        "\n",
        "#Series can be accessed using the specified index as shown below\n",
        "days[0]  # days data at index zero and column 0\n",
        "days[1: ] \n",
        "days['c'] "
      ],
      "execution_count": 43,
      "outputs": [
        {
          "output_type": "execute_result",
          "data": {
            "application/vnd.google.colaboratory.intrinsic": {
              "type": "string"
            },
            "text/plain": [
              "'Wednesday'"
            ]
          },
          "metadata": {
            "tags": []
          },
          "execution_count": 43
        }
      ]
    },
    {
      "cell_type": "code",
      "metadata": {
        "id": "Wh-gS-w98SDG",
        "colab_type": "code",
        "colab": {
          "base_uri": "https://localhost:8080/",
          "height": 85
        },
        "outputId": "e3d88bbc-51e7-4b74-ea8b-51835401e190"
      },
      "source": [
        "# create a dataframe from a dictionary\n",
        "df_dict = {'Country': ['Ghana', 'Kenya', 'Nigeria', 'Togo'],\n",
        "           'Capital': ['Accra', 'Nairobi', 'Abuja', 'Lome'],\n",
        "           'Population': [10000, 8500, 35000, 12000],\n",
        "           'Age': [60, 70, 80, 75]\n",
        "}\n",
        "\n",
        "df_dict\n"
      ],
      "execution_count": 4,
      "outputs": [
        {
          "output_type": "execute_result",
          "data": {
            "text/plain": [
              "{'Age': [60, 70, 80, 75],\n",
              " 'Capital': ['Accra', 'Nairobi', 'Abuja', 'Lome'],\n",
              " 'Country': ['Ghana', 'Kenya', 'Nigeria', 'Togo'],\n",
              " 'Population': [10000, 8500, 35000, 12000]}"
            ]
          },
          "metadata": {
            "tags": []
          },
          "execution_count": 4
        }
      ]
    },
    {
      "cell_type": "code",
      "metadata": {
        "id": "Hqvvo8kh-vIk",
        "colab_type": "code",
        "colab": {
          "base_uri": "https://localhost:8080/",
          "height": 173
        },
        "outputId": "c4239903-094f-4abb-c8b4-7b879c89b0f0"
      },
      "source": [
        "df = pd.DataFrame(df_dict, index=[2, 4, 6, 8])\n",
        "df"
      ],
      "execution_count": 11,
      "outputs": [
        {
          "output_type": "execute_result",
          "data": {
            "text/html": [
              "<div>\n",
              "<style scoped>\n",
              "    .dataframe tbody tr th:only-of-type {\n",
              "        vertical-align: middle;\n",
              "    }\n",
              "\n",
              "    .dataframe tbody tr th {\n",
              "        vertical-align: top;\n",
              "    }\n",
              "\n",
              "    .dataframe thead th {\n",
              "        text-align: right;\n",
              "    }\n",
              "</style>\n",
              "<table border=\"1\" class=\"dataframe\">\n",
              "  <thead>\n",
              "    <tr style=\"text-align: right;\">\n",
              "      <th></th>\n",
              "      <th>Country</th>\n",
              "      <th>Capital</th>\n",
              "      <th>Population</th>\n",
              "      <th>Age</th>\n",
              "    </tr>\n",
              "  </thead>\n",
              "  <tbody>\n",
              "    <tr>\n",
              "      <th>2</th>\n",
              "      <td>Ghana</td>\n",
              "      <td>Accra</td>\n",
              "      <td>10000</td>\n",
              "      <td>60</td>\n",
              "    </tr>\n",
              "    <tr>\n",
              "      <th>4</th>\n",
              "      <td>Kenya</td>\n",
              "      <td>Nairobi</td>\n",
              "      <td>8500</td>\n",
              "      <td>70</td>\n",
              "    </tr>\n",
              "    <tr>\n",
              "      <th>6</th>\n",
              "      <td>Nigeria</td>\n",
              "      <td>Abuja</td>\n",
              "      <td>35000</td>\n",
              "      <td>80</td>\n",
              "    </tr>\n",
              "    <tr>\n",
              "      <th>8</th>\n",
              "      <td>Togo</td>\n",
              "      <td>Lome</td>\n",
              "      <td>12000</td>\n",
              "      <td>75</td>\n",
              "    </tr>\n",
              "  </tbody>\n",
              "</table>\n",
              "</div>"
            ],
            "text/plain": [
              "   Country  Capital  Population  Age\n",
              "2    Ghana    Accra       10000   60\n",
              "4    Kenya  Nairobi        8500   70\n",
              "6  Nigeria    Abuja       35000   80\n",
              "8     Togo     Lome       12000   75"
            ]
          },
          "metadata": {
            "tags": []
          },
          "execution_count": 11
        }
      ]
    },
    {
      "cell_type": "code",
      "metadata": {
        "colab_type": "code",
        "id": "35wCuzS6-r2F",
        "colab": {
          "base_uri": "https://localhost:8080/",
          "height": 173
        },
        "outputId": "bed59009-2304-4cda-894e-d9ccd7279cb7"
      },
      "source": [
        "# Alternative way of creating using pandas and list instead of dictionaries\n",
        "\n",
        "df_list = [['Ghana', 'Accra', 10000, 60], \n",
        "           ['Kenya', 'Nairobi', 8500, 70], \n",
        "           ['Nigeria',   'Abuja', 35000, 80], \n",
        "           ['Togo', 'Lome', 12000, 75]]\n",
        "df1 = pd.DataFrame(df_list, columns=['Country', 'Capital','Population', 'Age'], \n",
        "                   index=[2, 4, 6, 8])\n",
        "df1"
      ],
      "execution_count": 15,
      "outputs": [
        {
          "output_type": "execute_result",
          "data": {
            "text/html": [
              "<div>\n",
              "<style scoped>\n",
              "    .dataframe tbody tr th:only-of-type {\n",
              "        vertical-align: middle;\n",
              "    }\n",
              "\n",
              "    .dataframe tbody tr th {\n",
              "        vertical-align: top;\n",
              "    }\n",
              "\n",
              "    .dataframe thead th {\n",
              "        text-align: right;\n",
              "    }\n",
              "</style>\n",
              "<table border=\"1\" class=\"dataframe\">\n",
              "  <thead>\n",
              "    <tr style=\"text-align: right;\">\n",
              "      <th></th>\n",
              "      <th>Country</th>\n",
              "      <th>Capital</th>\n",
              "      <th>Population</th>\n",
              "      <th>Age</th>\n",
              "    </tr>\n",
              "  </thead>\n",
              "  <tbody>\n",
              "    <tr>\n",
              "      <th>2</th>\n",
              "      <td>Ghana</td>\n",
              "      <td>Accra</td>\n",
              "      <td>10000</td>\n",
              "      <td>60</td>\n",
              "    </tr>\n",
              "    <tr>\n",
              "      <th>4</th>\n",
              "      <td>Kenya</td>\n",
              "      <td>Nairobi</td>\n",
              "      <td>8500</td>\n",
              "      <td>70</td>\n",
              "    </tr>\n",
              "    <tr>\n",
              "      <th>6</th>\n",
              "      <td>Nigeria</td>\n",
              "      <td>Abuja</td>\n",
              "      <td>35000</td>\n",
              "      <td>80</td>\n",
              "    </tr>\n",
              "    <tr>\n",
              "      <th>8</th>\n",
              "      <td>Togo</td>\n",
              "      <td>Lome</td>\n",
              "      <td>12000</td>\n",
              "      <td>75</td>\n",
              "    </tr>\n",
              "  </tbody>\n",
              "</table>\n",
              "</div>"
            ],
            "text/plain": [
              "   Country  Capital  Population  Age\n",
              "2    Ghana    Accra       10000   60\n",
              "4    Kenya  Nairobi        8500   70\n",
              "6  Nigeria    Abuja       35000   80\n",
              "8     Togo     Lome       12000   75"
            ]
          },
          "metadata": {
            "tags": []
          },
          "execution_count": 15
        }
      ]
    },
    {
      "cell_type": "code",
      "metadata": {
        "id": "_AuA7_yR9qR5",
        "colab_type": "code",
        "colab": {
          "base_uri": "https://localhost:8080/",
          "height": 102
        },
        "outputId": "580b8592-94a3-4325-9db3-4dd121391893"
      },
      "source": [
        "# Accessing elements using loc and iloc for rows\n",
        "df.iloc[3] # select df at index location 3\n",
        "\n"
      ],
      "execution_count": 16,
      "outputs": [
        {
          "output_type": "execute_result",
          "data": {
            "text/plain": [
              "Country        Togo\n",
              "Capital        Lome\n",
              "Population    12000\n",
              "Age              75\n",
              "Name: 8, dtype: object"
            ]
          },
          "metadata": {
            "tags": []
          },
          "execution_count": 16
        }
      ]
    },
    {
      "cell_type": "code",
      "metadata": {
        "id": "rXXr3D4fAANE",
        "colab_type": "code",
        "colab": {
          "base_uri": "https://localhost:8080/",
          "height": 102
        },
        "outputId": "35b36c56-c784-42b3-f8ee-24f86d4157d4"
      },
      "source": [
        "df.loc[6]  # select df at location 6"
      ],
      "execution_count": 17,
      "outputs": [
        {
          "output_type": "execute_result",
          "data": {
            "text/plain": [
              "Country       Nigeria\n",
              "Capital         Abuja\n",
              "Population      35000\n",
              "Age                80\n",
              "Name: 6, dtype: object"
            ]
          },
          "metadata": {
            "tags": []
          },
          "execution_count": 17
        }
      ]
    },
    {
      "cell_type": "code",
      "metadata": {
        "id": "kZs4eJX5AtMp",
        "colab_type": "code",
        "colab": {
          "base_uri": "https://localhost:8080/",
          "height": 102
        },
        "outputId": "a4f9cafb-44ef-4601-cd38-b9e74220330c"
      },
      "source": [
        "# select the Capital column\n",
        "df['Capital']"
      ],
      "execution_count": 18,
      "outputs": [
        {
          "output_type": "execute_result",
          "data": {
            "text/plain": [
              "2      Accra\n",
              "4    Nairobi\n",
              "6      Abuja\n",
              "8       Lome\n",
              "Name: Capital, dtype: object"
            ]
          },
          "metadata": {
            "tags": []
          },
          "execution_count": 18
        }
      ]
    },
    {
      "cell_type": "code",
      "metadata": {
        "id": "Rr_awtojA64u",
        "colab_type": "code",
        "colab": {
          "base_uri": "https://localhost:8080/",
          "height": 35
        },
        "outputId": "f92fc3ee-790f-4a9a-befe-e509899f761a"
      },
      "source": [
        "df.at[6, 'Country']"
      ],
      "execution_count": 19,
      "outputs": [
        {
          "output_type": "execute_result",
          "data": {
            "application/vnd.google.colaboratory.intrinsic": {
              "type": "string"
            },
            "text/plain": [
              "'Nigeria'"
            ]
          },
          "metadata": {
            "tags": []
          },
          "execution_count": 19
        }
      ]
    },
    {
      "cell_type": "code",
      "metadata": {
        "id": "q6-WggaTBDnU",
        "colab_type": "code",
        "colab": {
          "base_uri": "https://localhost:8080/",
          "height": 35
        },
        "outputId": "126dd74b-6c64-41af-e46a-d056677debff"
      },
      "source": [
        "df.iat[2, 0] # iat mean at index position row 2 from 0 and column 0 position"
      ],
      "execution_count": 20,
      "outputs": [
        {
          "output_type": "execute_result",
          "data": {
            "application/vnd.google.colaboratory.intrinsic": {
              "type": "string"
            },
            "text/plain": [
              "'Nigeria'"
            ]
          },
          "metadata": {
            "tags": []
          },
          "execution_count": 20
        }
      ]
    },
    {
      "cell_type": "code",
      "metadata": {
        "id": "qqcSrrC0BdMd",
        "colab_type": "code",
        "colab": {
          "base_uri": "https://localhost:8080/",
          "height": 173
        },
        "outputId": "43721f4e-b4d5-48f8-d216-a4593cc8d06c"
      },
      "source": [
        "# Dealing with missing values \n",
        "df_dict2 = {'Name': ['James', 'Yemen', 'Caro', np.nan],\n",
        "           'Profession': ['Researcher', 'Artist', 'Doctor', 'Writer'],\n",
        "           'Experience': [12, np.nan, 10, 8],\n",
        "           'Height': [np.nan, 175, 180, 150]\n",
        "            }\n",
        "\n",
        "new_df = pd.DataFrame(df_dict2)\n",
        "\n",
        "# check for cells with missing values as True\n",
        "new_df.isnull()"
      ],
      "execution_count": 26,
      "outputs": [
        {
          "output_type": "execute_result",
          "data": {
            "text/html": [
              "<div>\n",
              "<style scoped>\n",
              "    .dataframe tbody tr th:only-of-type {\n",
              "        vertical-align: middle;\n",
              "    }\n",
              "\n",
              "    .dataframe tbody tr th {\n",
              "        vertical-align: top;\n",
              "    }\n",
              "\n",
              "    .dataframe thead th {\n",
              "        text-align: right;\n",
              "    }\n",
              "</style>\n",
              "<table border=\"1\" class=\"dataframe\">\n",
              "  <thead>\n",
              "    <tr style=\"text-align: right;\">\n",
              "      <th></th>\n",
              "      <th>Name</th>\n",
              "      <th>Profession</th>\n",
              "      <th>Experience</th>\n",
              "      <th>Height</th>\n",
              "    </tr>\n",
              "  </thead>\n",
              "  <tbody>\n",
              "    <tr>\n",
              "      <th>0</th>\n",
              "      <td>False</td>\n",
              "      <td>False</td>\n",
              "      <td>False</td>\n",
              "      <td>True</td>\n",
              "    </tr>\n",
              "    <tr>\n",
              "      <th>1</th>\n",
              "      <td>False</td>\n",
              "      <td>False</td>\n",
              "      <td>True</td>\n",
              "      <td>False</td>\n",
              "    </tr>\n",
              "    <tr>\n",
              "      <th>2</th>\n",
              "      <td>False</td>\n",
              "      <td>False</td>\n",
              "      <td>False</td>\n",
              "      <td>False</td>\n",
              "    </tr>\n",
              "    <tr>\n",
              "      <th>3</th>\n",
              "      <td>True</td>\n",
              "      <td>False</td>\n",
              "      <td>False</td>\n",
              "      <td>False</td>\n",
              "    </tr>\n",
              "  </tbody>\n",
              "</table>\n",
              "</div>"
            ],
            "text/plain": [
              "    Name  Profession  Experience  Height\n",
              "0  False       False       False    True\n",
              "1  False       False        True   False\n",
              "2  False       False       False   False\n",
              "3   True       False       False   False"
            ]
          },
          "metadata": {
            "tags": []
          },
          "execution_count": 26
        }
      ]
    },
    {
      "cell_type": "code",
      "metadata": {
        "id": "xDgETlm3JIHl",
        "colab_type": "code",
        "colab": {
          "base_uri": "https://localhost:8080/",
          "height": 80
        },
        "outputId": "1046f7b6-c118-464d-ef24-dab3e1c66d9d"
      },
      "source": [
        "# remove rows with missing values\n",
        "new_df.dropna()  # only rows with no na is kept in the df"
      ],
      "execution_count": 27,
      "outputs": [
        {
          "output_type": "execute_result",
          "data": {
            "text/html": [
              "<div>\n",
              "<style scoped>\n",
              "    .dataframe tbody tr th:only-of-type {\n",
              "        vertical-align: middle;\n",
              "    }\n",
              "\n",
              "    .dataframe tbody tr th {\n",
              "        vertical-align: top;\n",
              "    }\n",
              "\n",
              "    .dataframe thead th {\n",
              "        text-align: right;\n",
              "    }\n",
              "</style>\n",
              "<table border=\"1\" class=\"dataframe\">\n",
              "  <thead>\n",
              "    <tr style=\"text-align: right;\">\n",
              "      <th></th>\n",
              "      <th>Name</th>\n",
              "      <th>Profession</th>\n",
              "      <th>Experience</th>\n",
              "      <th>Height</th>\n",
              "    </tr>\n",
              "  </thead>\n",
              "  <tbody>\n",
              "    <tr>\n",
              "      <th>2</th>\n",
              "      <td>Caro</td>\n",
              "      <td>Doctor</td>\n",
              "      <td>10.0</td>\n",
              "      <td>180.0</td>\n",
              "    </tr>\n",
              "  </tbody>\n",
              "</table>\n",
              "</div>"
            ],
            "text/plain": [
              "   Name Profession  Experience  Height\n",
              "2  Caro     Doctor        10.0   180.0"
            ]
          },
          "metadata": {
            "tags": []
          },
          "execution_count": 27
        }
      ]
    },
    {
      "cell_type": "code",
      "metadata": {
        "id": "1XdC3sqYJz_e",
        "colab_type": "code",
        "colab": {
          "base_uri": "https://localhost:8080/",
          "height": 297
        },
        "outputId": "d8fb1ef6-cd50-4676-f735-c6e540675f49"
      },
      "source": [
        "# Using the describe inbuilt function\n",
        "df['Population'].sum() \n",
        "df.mean()\n",
        "df.describe()"
      ],
      "execution_count": 30,
      "outputs": [
        {
          "output_type": "execute_result",
          "data": {
            "text/html": [
              "<div>\n",
              "<style scoped>\n",
              "    .dataframe tbody tr th:only-of-type {\n",
              "        vertical-align: middle;\n",
              "    }\n",
              "\n",
              "    .dataframe tbody tr th {\n",
              "        vertical-align: top;\n",
              "    }\n",
              "\n",
              "    .dataframe thead th {\n",
              "        text-align: right;\n",
              "    }\n",
              "</style>\n",
              "<table border=\"1\" class=\"dataframe\">\n",
              "  <thead>\n",
              "    <tr style=\"text-align: right;\">\n",
              "      <th></th>\n",
              "      <th>Population</th>\n",
              "      <th>Age</th>\n",
              "    </tr>\n",
              "  </thead>\n",
              "  <tbody>\n",
              "    <tr>\n",
              "      <th>count</th>\n",
              "      <td>4.000000</td>\n",
              "      <td>4.000000</td>\n",
              "    </tr>\n",
              "    <tr>\n",
              "      <th>mean</th>\n",
              "      <td>16375.000000</td>\n",
              "      <td>71.250000</td>\n",
              "    </tr>\n",
              "    <tr>\n",
              "      <th>std</th>\n",
              "      <td>12499.166639</td>\n",
              "      <td>8.539126</td>\n",
              "    </tr>\n",
              "    <tr>\n",
              "      <th>min</th>\n",
              "      <td>8500.000000</td>\n",
              "      <td>60.000000</td>\n",
              "    </tr>\n",
              "    <tr>\n",
              "      <th>25%</th>\n",
              "      <td>9625.000000</td>\n",
              "      <td>67.500000</td>\n",
              "    </tr>\n",
              "    <tr>\n",
              "      <th>50%</th>\n",
              "      <td>11000.000000</td>\n",
              "      <td>72.500000</td>\n",
              "    </tr>\n",
              "    <tr>\n",
              "      <th>75%</th>\n",
              "      <td>17750.000000</td>\n",
              "      <td>76.250000</td>\n",
              "    </tr>\n",
              "    <tr>\n",
              "      <th>max</th>\n",
              "      <td>35000.000000</td>\n",
              "      <td>80.000000</td>\n",
              "    </tr>\n",
              "  </tbody>\n",
              "</table>\n",
              "</div>"
            ],
            "text/plain": [
              "         Population        Age\n",
              "count      4.000000   4.000000\n",
              "mean   16375.000000  71.250000\n",
              "std    12499.166639   8.539126\n",
              "min     8500.000000  60.000000\n",
              "25%     9625.000000  67.500000\n",
              "50%    11000.000000  72.500000\n",
              "75%    17750.000000  76.250000\n",
              "max    35000.000000  80.000000"
            ]
          },
          "metadata": {
            "tags": []
          },
          "execution_count": 30
        }
      ]
    },
    {
      "cell_type": "code",
      "metadata": {
        "id": "6qqDyhoXKOS8",
        "colab_type": "code",
        "colab": {}
      },
      "source": [
        ""
      ],
      "execution_count": null,
      "outputs": []
    }
  ]
}