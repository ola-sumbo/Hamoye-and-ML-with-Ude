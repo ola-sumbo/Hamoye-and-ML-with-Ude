{
  "nbformat": 4,
  "nbformat_minor": 0,
  "metadata": {
    "colab": {
      "name": "Inbuilt function that can be utilized from numpy.ipynb",
      "provenance": [],
      "authorship_tag": "ABX9TyNkXMx6I1Uf4SV5aaaN7EI5",
      "include_colab_link": true
    },
    "kernelspec": {
      "name": "python3",
      "display_name": "Python 3"
    }
  },
  "cells": [
    {
      "cell_type": "markdown",
      "metadata": {
        "id": "view-in-github",
        "colab_type": "text"
      },
      "source": [
        "<a href=\"https://colab.research.google.com/github/ola-sumbo/Hamoye-and-ML-with-Ude/blob/master/Inbuilt_function_that_can_be_utilized_from_numpy.ipynb\" target=\"_parent\"><img src=\"https://colab.research.google.com/assets/colab-badge.svg\" alt=\"Open In Colab\"/></a>"
      ]
    },
    {
      "cell_type": "code",
      "metadata": {
        "id": "_S0UGZyhVJHm",
        "colab_type": "code",
        "colab": {}
      },
      "source": [
        "# conversion for importing numpy \n",
        "import numpy as np"
      ],
      "execution_count": 1,
      "outputs": []
    },
    {
      "cell_type": "code",
      "metadata": {
        "id": "ZPIAko1DVnvG",
        "colab_type": "code",
        "colab": {
          "base_uri": "https://localhost:8080/",
          "height": 34
        },
        "outputId": "0f795372-22aa-4f0b-ec82-ed12af87daf2"
      },
      "source": [
        "arr = [6, 7, 8, 9]\n",
        "type(arr)\n"
      ],
      "execution_count": 4,
      "outputs": [
        {
          "output_type": "execute_result",
          "data": {
            "text/plain": [
              "list"
            ]
          },
          "metadata": {
            "tags": []
          },
          "execution_count": 4
        }
      ]
    },
    {
      "cell_type": "code",
      "metadata": {
        "id": "j8wEfqIIV1wy",
        "colab_type": "code",
        "colab": {
          "base_uri": "https://localhost:8080/",
          "height": 34
        },
        "outputId": "64db1fb9-e733-4609-b2ed-5aed5a990c95"
      },
      "source": [
        "a = np.array(arr)\n",
        "type(a)\n",
        "a.shape\n",
        "a.dtype"
      ],
      "execution_count": 8,
      "outputs": [
        {
          "output_type": "execute_result",
          "data": {
            "text/plain": [
              "dtype('int64')"
            ]
          },
          "metadata": {
            "tags": []
          },
          "execution_count": 8
        }
      ]
    },
    {
      "cell_type": "code",
      "metadata": {
        "id": "D_aMPXqOaLjV",
        "colab_type": "code",
        "colab": {
          "base_uri": "https://localhost:8080/",
          "height": 34
        },
        "outputId": "b33f706e-1ca1-48f3-92b2-5e16f378f567"
      },
      "source": [
        "# Get dimension with ndim width\n",
        "print(a.ndim)    #print 1"
      ],
      "execution_count": 9,
      "outputs": [
        {
          "output_type": "stream",
          "text": [
            "1\n"
          ],
          "name": "stdout"
        }
      ]
    },
    {
      "cell_type": "code",
      "metadata": {
        "id": "ZAdEFVDdac3C",
        "colab_type": "code",
        "colab": {
          "base_uri": "https://localhost:8080/",
          "height": 85
        },
        "outputId": "d8d92785-c1e8-492a-a8d8-da7f3a8bebb8"
      },
      "source": [
        "b = np.array([[1,2,3],[4,5,6]])\n",
        "print(b) \n",
        "print(b.ndim)\n",
        "print(b.shape)"
      ],
      "execution_count": 12,
      "outputs": [
        {
          "output_type": "stream",
          "text": [
            "[[1 2 3]\n",
            " [4 5 6]]\n",
            "2\n",
            "(2, 3)\n"
          ],
          "name": "stdout"
        }
      ]
    },
    {
      "cell_type": "code",
      "metadata": {
        "id": "ZcrfLeP7bVHH",
        "colab_type": "code",
        "colab": {
          "base_uri": "https://localhost:8080/",
          "height": 51
        },
        "outputId": "ef4354f5-fdde-4816-9e32-3dc9d85101f5"
      },
      "source": [
        "# Inbuilt function used to initialise numpy.py\n",
        "# a 2 * 3 array generated with random variables\n",
        "np.random.random"
      ],
      "execution_count": null,
      "outputs": [
        {
          "output_type": "execute_result",
          "data": {
            "text/plain": [
              "array([[0.44777134, 0.94154716, 0.18433596],\n",
              "       [0.26216404, 0.36045223, 0.98642724]])"
            ]
          },
          "metadata": {
            "tags": []
          },
          "execution_count": 13
        }
      ]
    },
    {
      "cell_type": "code",
      "metadata": {
        "id": "7hjhfv1yeGU0",
        "colab_type": "code",
        "colab": {
          "base_uri": "https://localhost:8080/",
          "height": 51
        },
        "outputId": "d096ef7a-34a7-4978-f37c-704611309ec1"
      },
      "source": [
        "# a 2x3 array of zeros\n",
        "np.zeros((2, 3))\n",
        "\n",
        "np.ones((2,3))"
      ],
      "execution_count": 25,
      "outputs": [
        {
          "output_type": "execute_result",
          "data": {
            "text/plain": [
              "array([[1., 1., 1.],\n",
              "       [1., 1., 1.]])"
            ]
          },
          "metadata": {
            "tags": []
          },
          "execution_count": 25
        }
      ]
    },
    {
      "cell_type": "code",
      "metadata": {
        "id": "ewArYGkQk0UZ",
        "colab_type": "code",
        "colab": {
          "base_uri": "https://localhost:8080/",
          "height": 68
        },
        "outputId": "ee199fee-f444-4e92-8a81-508585aeebe1"
      },
      "source": [
        "# a 3x3 identity matrix\n",
        "s = np.zeros((3,3), int)\n",
        "np.fill_diagonal(s,3) \n",
        "print(s)\n"
      ],
      "execution_count": 40,
      "outputs": [
        {
          "output_type": "stream",
          "text": [
            "[[3 0 0]\n",
            " [0 3 0]\n",
            " [0 0 3]]\n"
          ],
          "name": "stdout"
        }
      ]
    },
    {
      "cell_type": "code",
      "metadata": {
        "id": "bpFYQ-wCnwzN",
        "colab_type": "code",
        "colab": {
          "base_uri": "https://localhost:8080/",
          "height": 51
        },
        "outputId": "9d236342-ca44-4a86-cbc0-c7c2fc72915f"
      },
      "source": [
        "# Indexing with arrays and using arrays for data processing \n",
        "# The elements in the example arrays above can be accessed by indexing like lists in Python such that:\n",
        "a[3] = 9\n",
        "b[0, 0] # what is in the matrix of b at position 0 and o by index\n",
        "b[1, 2] # look for index column 2 from 0 then at position of row 1 from 0\n",
        "\n"
      ],
      "execution_count": 51,
      "outputs": [
        {
          "output_type": "execute_result",
          "data": {
            "text/plain": [
              "array([[1, 2, 3],\n",
              "       [4, 5, 6]])"
            ]
          },
          "metadata": {
            "tags": []
          },
          "execution_count": 51
        }
      ]
    }
  ]
}