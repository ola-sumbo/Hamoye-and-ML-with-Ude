{
  "nbformat": 4,
  "nbformat_minor": 0,
  "metadata": {
    "colab": {
      "name": "Inbuilt function that can be utilized from numpy.ipynb",
      "provenance": [],
      "authorship_tag": "ABX9TyMiwb0pOaqhbjR+QY3Ff9RX",
      "include_colab_link": true
    },
    "kernelspec": {
      "name": "python3",
      "display_name": "Python 3"
    }
  },
  "cells": [
    {
      "cell_type": "markdown",
      "metadata": {
        "id": "view-in-github",
        "colab_type": "text"
      },
      "source": [
        "<a href=\"https://colab.research.google.com/github/ola-sumbo/Hamoye-and-ML-with-Ude/blob/master/Inbuilt_function_that_can_be_utilized_from_numpy.ipynb\" target=\"_parent\"><img src=\"https://colab.research.google.com/assets/colab-badge.svg\" alt=\"Open In Colab\"/></a>"
      ]
    },
    {
      "cell_type": "code",
      "metadata": {
        "id": "_S0UGZyhVJHm",
        "colab_type": "code",
        "colab": {}
      },
      "source": [
        "# conversion for importing numpy \n",
        "import numpy as np"
      ],
      "execution_count": 1,
      "outputs": []
    },
    {
      "cell_type": "code",
      "metadata": {
        "id": "ZPIAko1DVnvG",
        "colab_type": "code",
        "colab": {
          "base_uri": "https://localhost:8080/",
          "height": 34
        },
        "outputId": "0f795372-22aa-4f0b-ec82-ed12af87daf2"
      },
      "source": [
        "arr = [6, 7, 8, 9]\n",
        "type(arr)\n"
      ],
      "execution_count": 4,
      "outputs": [
        {
          "output_type": "execute_result",
          "data": {
            "text/plain": [
              "list"
            ]
          },
          "metadata": {
            "tags": []
          },
          "execution_count": 4
        }
      ]
    },
    {
      "cell_type": "code",
      "metadata": {
        "id": "j8wEfqIIV1wy",
        "colab_type": "code",
        "colab": {
          "base_uri": "https://localhost:8080/",
          "height": 34
        },
        "outputId": "64db1fb9-e733-4609-b2ed-5aed5a990c95"
      },
      "source": [
        "a = np.array(arr)\n",
        "type(a)\n",
        "a.shape\n",
        "a.dtype"
      ],
      "execution_count": 8,
      "outputs": [
        {
          "output_type": "execute_result",
          "data": {
            "text/plain": [
              "dtype('int64')"
            ]
          },
          "metadata": {
            "tags": []
          },
          "execution_count": 8
        }
      ]
    },
    {
      "cell_type": "code",
      "metadata": {
        "id": "D_aMPXqOaLjV",
        "colab_type": "code",
        "colab": {
          "base_uri": "https://localhost:8080/",
          "height": 34
        },
        "outputId": "b33f706e-1ca1-48f3-92b2-5e16f378f567"
      },
      "source": [
        "# Get dimension with ndim width\n",
        "print(a.ndim)    #print 1"
      ],
      "execution_count": 9,
      "outputs": [
        {
          "output_type": "stream",
          "text": [
            "1\n"
          ],
          "name": "stdout"
        }
      ]
    },
    {
      "cell_type": "code",
      "metadata": {
        "id": "ZAdEFVDdac3C",
        "colab_type": "code",
        "colab": {
          "base_uri": "https://localhost:8080/",
          "height": 85
        },
        "outputId": "d8d92785-c1e8-492a-a8d8-da7f3a8bebb8"
      },
      "source": [
        "b = np.array([[1,2,3],[4,5,6]])\n",
        "print(b) \n",
        "print(b.ndim)\n",
        "print(b.shape)"
      ],
      "execution_count": 12,
      "outputs": [
        {
          "output_type": "stream",
          "text": [
            "[[1 2 3]\n",
            " [4 5 6]]\n",
            "2\n",
            "(2, 3)\n"
          ],
          "name": "stdout"
        }
      ]
    },
    {
      "cell_type": "code",
      "metadata": {
        "id": "ZcrfLeP7bVHH",
        "colab_type": "code",
        "colab": {
          "base_uri": "https://localhost:8080/",
          "height": 51
        },
        "outputId": "ef4354f5-fdde-4816-9e32-3dc9d85101f5"
      },
      "source": [
        "# Inbuilt function used to initialise numpy.py\n",
        "# a 2 * 3 array generated with random variables\n",
        "np.random.random"
      ],
      "execution_count": null,
      "outputs": [
        {
          "output_type": "execute_result",
          "data": {
            "text/plain": [
              "array([[0.44777134, 0.94154716, 0.18433596],\n",
              "       [0.26216404, 0.36045223, 0.98642724]])"
            ]
          },
          "metadata": {
            "tags": []
          },
          "execution_count": 13
        }
      ]
    },
    {
      "cell_type": "code",
      "metadata": {
        "id": "7hjhfv1yeGU0",
        "colab_type": "code",
        "colab": {
          "base_uri": "https://localhost:8080/",
          "height": 51
        },
        "outputId": "d096ef7a-34a7-4978-f37c-704611309ec1"
      },
      "source": [
        "# a 2x3 array of zeros\n",
        "np.zeros((2, 3))\n",
        "\n",
        "np.ones((2,3))"
      ],
      "execution_count": 25,
      "outputs": [
        {
          "output_type": "execute_result",
          "data": {
            "text/plain": [
              "array([[1., 1., 1.],\n",
              "       [1., 1., 1.]])"
            ]
          },
          "metadata": {
            "tags": []
          },
          "execution_count": 25
        }
      ]
    },
    {
      "cell_type": "code",
      "metadata": {
        "id": "ewArYGkQk0UZ",
        "colab_type": "code",
        "colab": {
          "base_uri": "https://localhost:8080/",
          "height": 68
        },
        "outputId": "5e9c7ca9-f900-476e-bf91-1cbebd890bca"
      },
      "source": [
        "# a 3x3 identity matrix\n",
        "c = np.zeros((3,3), int)\n",
        "np.fill_diagonal(c,3) \n",
        "print(c)\n"
      ],
      "execution_count": 53,
      "outputs": [
        {
          "output_type": "stream",
          "text": [
            "[[3 0 0]\n",
            " [0 3 0]\n",
            " [0 0 3]]\n"
          ],
          "name": "stdout"
        }
      ]
    },
    {
      "cell_type": "code",
      "metadata": {
        "id": "bpFYQ-wCnwzN",
        "colab_type": "code",
        "colab": {
          "base_uri": "https://localhost:8080/",
          "height": 34
        },
        "outputId": "d3e4740c-2a94-4954-b3dc-17ed80c80a1d"
      },
      "source": [
        "# Indexing with arrays and using arrays for data processing \n",
        "# The elements in the example arrays above can be accessed by indexing like lists in Python such that:\n",
        "a[3] = 9\n",
        "b[0, 0] # what is in the matrix of b at position 0 and o by index\n",
        "b[1, 2] # look for index column 2 from 0 then at position of row 1 from 0\n",
        "c[0, 1]\n"
      ],
      "execution_count": 54,
      "outputs": [
        {
          "output_type": "execute_result",
          "data": {
            "text/plain": [
              "0"
            ]
          },
          "metadata": {
            "tags": []
          },
          "execution_count": 54
        }
      ]
    },
    {
      "cell_type": "code",
      "metadata": {
        "id": "m37e4_B4-AZE",
        "colab_type": "code",
        "colab": {
          "base_uri": "https://localhost:8080/",
          "height": 34
        },
        "outputId": "9b265698-c35c-40cd-996d-1a6d00f2ec7e"
      },
      "source": [
        "# Elements in arrays  can also be retrieved by slicing rows and columns or a combination of indexing and slicing.\n",
        "b[1,  0:2] # skip 1 and print out row 1 from o and column 0 and 2\n"
      ],
      "execution_count": 58,
      "outputs": [
        {
          "output_type": "execute_result",
          "data": {
            "text/plain": [
              "array([4, 5])"
            ]
          },
          "metadata": {
            "tags": []
          },
          "execution_count": 58
        }
      ]
    },
    {
      "cell_type": "code",
      "metadata": {
        "id": "htcSV8Sv-hjL",
        "colab_type": "code",
        "colab": {
          "base_uri": "https://localhost:8080/",
          "height": 85
        },
        "outputId": "f88035be-d1a8-42a6-a682-31fc248b7648"
      },
      "source": [
        "e = np.array([[10, 11, 12],[13, 14, 15], \n",
        "              [16, 17, 18],[19, 20, 21]])\n",
        "e"
      ],
      "execution_count": 61,
      "outputs": [
        {
          "output_type": "execute_result",
          "data": {
            "text/plain": [
              "array([[10, 11, 12],\n",
              "       [13, 14, 15],\n",
              "       [16, 17, 18],\n",
              "       [19, 20, 21]])"
            ]
          },
          "metadata": {
            "tags": []
          },
          "execution_count": 61
        }
      ]
    },
    {
      "cell_type": "code",
      "metadata": {
        "id": "rzRbDB5A_RDy",
        "colab_type": "code",
        "colab": {
          "base_uri": "https://localhost:8080/",
          "height": 68
        },
        "outputId": "5457e2e7-ef36-4d25-d6c0-c9c8d4fa2a20"
      },
      "source": [
        "# slicing\n",
        "e[:3, :2]  # take every thing except the third row from 0, and take everything except the 2 column from 0"
      ],
      "execution_count": 62,
      "outputs": [
        {
          "output_type": "execute_result",
          "data": {
            "text/plain": [
              "array([[10, 11],\n",
              "       [13, 14],\n",
              "       [16, 17]])"
            ]
          },
          "metadata": {
            "tags": []
          },
          "execution_count": 62
        }
      ]
    },
    {
      "cell_type": "code",
      "metadata": {
        "id": "4a6INHZn_nym",
        "colab_type": "code",
        "colab": {
          "base_uri": "https://localhost:8080/",
          "height": 34
        },
        "outputId": "0c6003d2-76b0-4d14-fbcd-048787bdaaa5"
      },
      "source": [
        "# There are other advanced methods of indexing which are shown below.\n",
        "# integer indexing\n",
        "e[[2, 0, 3, 1],[2, 1, 0, 2]] # first embedded list represent list trace row 2 from 0 to column 2 from 0"
      ],
      "execution_count": 63,
      "outputs": [
        {
          "output_type": "execute_result",
          "data": {
            "text/plain": [
              "array([18, 11, 19, 15])"
            ]
          },
          "metadata": {
            "tags": []
          },
          "execution_count": 63
        }
      ]
    },
    {
      "cell_type": "code",
      "metadata": {
        "id": "foBxoI1UA3nE",
        "colab_type": "code",
        "colab": {
          "base_uri": "https://localhost:8080/",
          "height": 34
        },
        "outputId": "21ddc141-bc30-4c02-b3c7-c422a0e140f4"
      },
      "source": [
        "# boolean indexing meeting a specified condition\n",
        "e[e>15]"
      ],
      "execution_count": 64,
      "outputs": [
        {
          "output_type": "execute_result",
          "data": {
            "text/plain": [
              "array([16, 17, 18, 19, 20, 21])"
            ]
          },
          "metadata": {
            "tags": []
          },
          "execution_count": 64
        }
      ]
    },
    {
      "cell_type": "code",
      "metadata": {
        "id": "KiYKuFv6BFTS",
        "colab_type": "code",
        "colab": {}
      },
      "source": [
        "# Intra-operability of arrays and scalars\n",
        "c = np.array([[9.0, 8.0, 7.0], [1.0, 2.0, 3.0]], int)\n",
        "d = np.array([[4.0, 5.0, 6.0], [9.0, 8.0, 7.0]], int)"
      ],
      "execution_count": 71,
      "outputs": []
    },
    {
      "cell_type": "code",
      "metadata": {
        "id": "CzgMIgR-BuJ7",
        "colab_type": "code",
        "colab": {
          "base_uri": "https://localhost:8080/",
          "height": 51
        },
        "outputId": "05055ad7-0c05-4a12-9b42-34f10b19bd4e"
      },
      "source": [
        "c + d"
      ],
      "execution_count": 72,
      "outputs": [
        {
          "output_type": "execute_result",
          "data": {
            "text/plain": [
              "array([[13, 13, 13],\n",
              "       [10, 10, 10]])"
            ]
          },
          "metadata": {
            "tags": []
          },
          "execution_count": 72
        }
      ]
    },
    {
      "cell_type": "code",
      "metadata": {
        "id": "eAW4bRAbBFaq",
        "colab_type": "code",
        "colab": {
          "base_uri": "https://localhost:8080/",
          "height": 51
        },
        "outputId": "0ead1643-f1b1-4458-af70-7f18b615ce60"
      },
      "source": [
        "c * d "
      ],
      "execution_count": 73,
      "outputs": [
        {
          "output_type": "execute_result",
          "data": {
            "text/plain": [
              "array([[36, 40, 42],\n",
              "       [ 9, 16, 21]])"
            ]
          },
          "metadata": {
            "tags": []
          },
          "execution_count": 73
        }
      ]
    },
    {
      "cell_type": "code",
      "metadata": {
        "id": "DBigiqPICJ08",
        "colab_type": "code",
        "colab": {
          "base_uri": "https://localhost:8080/",
          "height": 51
        },
        "outputId": "7f2ab870-22d4-4f82-9196-06958b3d9283"
      },
      "source": [
        "5 / d "
      ],
      "execution_count": 74,
      "outputs": [
        {
          "output_type": "execute_result",
          "data": {
            "text/plain": [
              "array([[1.25      , 1.        , 0.83333333],\n",
              "       [0.55555556, 0.625     , 0.71428571]])"
            ]
          },
          "metadata": {
            "tags": []
          },
          "execution_count": 74
        }
      ]
    },
    {
      "cell_type": "code",
      "metadata": {
        "id": "s3baGbVQCMOr",
        "colab_type": "code",
        "colab": {
          "base_uri": "https://localhost:8080/",
          "height": 51
        },
        "outputId": "71462c8c-86d0-4a90-c29e-3eafb7f0ef29"
      },
      "source": [
        "c ** 2"
      ],
      "execution_count": 75,
      "outputs": [
        {
          "output_type": "execute_result",
          "data": {
            "text/plain": [
              "array([[81, 64, 49],\n",
              "       [ 1,  4,  9]])"
            ]
          },
          "metadata": {
            "tags": []
          },
          "execution_count": 75
        }
      ]
    }
  ]
}